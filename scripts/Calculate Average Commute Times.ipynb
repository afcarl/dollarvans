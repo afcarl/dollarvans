{
 "cells": [
  {
   "cell_type": "markdown",
   "metadata": {},
   "source": [
    "A Census Block FIPS code has 15 digits and is structured as follows:\n",
    "\n",
    "AABBBCCCCCCDEEE\n",
    "\n",
    "A = State (2 digit FIPS code)\n",
    "\n",
    "B = County (3 digit FIPS code)\n",
    "\n",
    "C = Tract (6 digit FIPS code)\n",
    "\n",
    "D = Block Group (1 digit FIPS code)\n",
    "\n",
    "E = Block (3 digit FIPS code)"
   ]
  },
  {
   "cell_type": "code",
   "execution_count": 1,
   "metadata": {
    "collapsed": false
   },
   "outputs": [
    {
     "name": "stdout",
     "output_type": "stream",
     "text": [
      "Populating the interactive namespace from numpy and matplotlib\n"
     ]
    }
   ],
   "source": [
    "# Display plots in the notebook\n",
    "%pylab inline"
   ]
  },
  {
   "cell_type": "code",
   "execution_count": 2,
   "metadata": {
    "collapsed": true
   },
   "outputs": [],
   "source": [
    "# Common imports\n",
    "import numpy as np\n",
    "import pylab as pl\n",
    "import pandas as pd"
   ]
  },
  {
   "cell_type": "code",
   "execution_count": 3,
   "metadata": {
    "collapsed": true
   },
   "outputs": [],
   "source": [
    "# Make plots prettyful\n",
    "pl.style.use('fivethirtyeight')"
   ]
  },
  {
   "cell_type": "code",
   "execution_count": 10,
   "metadata": {
    "collapsed": true
   },
   "outputs": [],
   "source": [
    "lodes = pd.read_csv('../data/output/lodes_nyc.csv', dtype={'w_geocode': str, 'h_geocode': str})"
   ]
  },
  {
   "cell_type": "code",
   "execution_count": 13,
   "metadata": {
    "collapsed": false
   },
   "outputs": [],
   "source": [
    "lodes['w_county_tract'] = lodes['w_geocode'].str[2:11]\n",
    "lodes['h_county_tract'] = lodes['h_geocode'].str[2:11]"
   ]
  },
  {
   "cell_type": "code",
   "execution_count": 14,
   "metadata": {
    "collapsed": false,
    "scrolled": false
   },
   "outputs": [
    {
     "data": {
      "text/html": [
       "<div>\n",
       "<table border=\"1\" class=\"dataframe\">\n",
       "  <thead>\n",
       "    <tr style=\"text-align: right;\">\n",
       "      <th></th>\n",
       "      <th>Unnamed: 0</th>\n",
       "      <th>w_geocode</th>\n",
       "      <th>h_geocode</th>\n",
       "      <th>S000</th>\n",
       "      <th>SA01</th>\n",
       "      <th>SA02</th>\n",
       "      <th>SA03</th>\n",
       "      <th>SE01</th>\n",
       "      <th>SE02</th>\n",
       "      <th>SE03</th>\n",
       "      <th>SI01</th>\n",
       "      <th>SI02</th>\n",
       "      <th>SI03</th>\n",
       "      <th>createdate</th>\n",
       "      <th>w_county</th>\n",
       "      <th>h_county</th>\n",
       "      <th>w_county_tract</th>\n",
       "      <th>h_county_tract</th>\n",
       "    </tr>\n",
       "  </thead>\n",
       "  <tbody>\n",
       "    <tr>\n",
       "      <th>0</th>\n",
       "      <td>203699</td>\n",
       "      <td>360050002001004</td>\n",
       "      <td>360050079003001</td>\n",
       "      <td>1</td>\n",
       "      <td>0</td>\n",
       "      <td>1</td>\n",
       "      <td>0</td>\n",
       "      <td>0</td>\n",
       "      <td>1</td>\n",
       "      <td>0</td>\n",
       "      <td>0</td>\n",
       "      <td>1</td>\n",
       "      <td>0</td>\n",
       "      <td>20150727</td>\n",
       "      <td>5</td>\n",
       "      <td>5</td>\n",
       "      <td>005000200</td>\n",
       "      <td>005007900</td>\n",
       "    </tr>\n",
       "    <tr>\n",
       "      <th>1</th>\n",
       "      <td>203700</td>\n",
       "      <td>360050002001004</td>\n",
       "      <td>360050123001000</td>\n",
       "      <td>1</td>\n",
       "      <td>0</td>\n",
       "      <td>1</td>\n",
       "      <td>0</td>\n",
       "      <td>0</td>\n",
       "      <td>0</td>\n",
       "      <td>1</td>\n",
       "      <td>0</td>\n",
       "      <td>1</td>\n",
       "      <td>0</td>\n",
       "      <td>20150727</td>\n",
       "      <td>5</td>\n",
       "      <td>5</td>\n",
       "      <td>005000200</td>\n",
       "      <td>005012300</td>\n",
       "    </tr>\n",
       "    <tr>\n",
       "      <th>2</th>\n",
       "      <td>203701</td>\n",
       "      <td>360050002001004</td>\n",
       "      <td>360050151002001</td>\n",
       "      <td>1</td>\n",
       "      <td>0</td>\n",
       "      <td>1</td>\n",
       "      <td>0</td>\n",
       "      <td>0</td>\n",
       "      <td>0</td>\n",
       "      <td>1</td>\n",
       "      <td>0</td>\n",
       "      <td>1</td>\n",
       "      <td>0</td>\n",
       "      <td>20150727</td>\n",
       "      <td>5</td>\n",
       "      <td>5</td>\n",
       "      <td>005000200</td>\n",
       "      <td>005015100</td>\n",
       "    </tr>\n",
       "    <tr>\n",
       "      <th>3</th>\n",
       "      <td>203702</td>\n",
       "      <td>360050002001004</td>\n",
       "      <td>360050399011001</td>\n",
       "      <td>1</td>\n",
       "      <td>0</td>\n",
       "      <td>1</td>\n",
       "      <td>0</td>\n",
       "      <td>1</td>\n",
       "      <td>0</td>\n",
       "      <td>0</td>\n",
       "      <td>0</td>\n",
       "      <td>1</td>\n",
       "      <td>0</td>\n",
       "      <td>20150727</td>\n",
       "      <td>5</td>\n",
       "      <td>5</td>\n",
       "      <td>005000200</td>\n",
       "      <td>005039901</td>\n",
       "    </tr>\n",
       "    <tr>\n",
       "      <th>4</th>\n",
       "      <td>203703</td>\n",
       "      <td>360050002001004</td>\n",
       "      <td>360050399023002</td>\n",
       "      <td>1</td>\n",
       "      <td>0</td>\n",
       "      <td>1</td>\n",
       "      <td>0</td>\n",
       "      <td>0</td>\n",
       "      <td>1</td>\n",
       "      <td>0</td>\n",
       "      <td>0</td>\n",
       "      <td>1</td>\n",
       "      <td>0</td>\n",
       "      <td>20150727</td>\n",
       "      <td>5</td>\n",
       "      <td>5</td>\n",
       "      <td>005000200</td>\n",
       "      <td>005039902</td>\n",
       "    </tr>\n",
       "  </tbody>\n",
       "</table>\n",
       "</div>"
      ],
      "text/plain": [
       "   Unnamed: 0        w_geocode        h_geocode  S000  SA01  SA02  SA03  SE01  \\\n",
       "0      203699  360050002001004  360050079003001     1     0     1     0     0   \n",
       "1      203700  360050002001004  360050123001000     1     0     1     0     0   \n",
       "2      203701  360050002001004  360050151002001     1     0     1     0     0   \n",
       "3      203702  360050002001004  360050399011001     1     0     1     0     1   \n",
       "4      203703  360050002001004  360050399023002     1     0     1     0     0   \n",
       "\n",
       "   SE02  SE03  SI01  SI02  SI03  createdate  w_county  h_county  \\\n",
       "0     1     0     0     1     0    20150727         5         5   \n",
       "1     0     1     0     1     0    20150727         5         5   \n",
       "2     0     1     0     1     0    20150727         5         5   \n",
       "3     0     0     0     1     0    20150727         5         5   \n",
       "4     1     0     0     1     0    20150727         5         5   \n",
       "\n",
       "  w_county_tract h_county_tract  \n",
       "0      005000200      005007900  \n",
       "1      005000200      005012300  \n",
       "2      005000200      005015100  \n",
       "3      005000200      005039901  \n",
       "4      005000200      005039902  "
      ]
     },
     "execution_count": 14,
     "metadata": {},
     "output_type": "execute_result"
    }
   ],
   "source": [
    "lodes.head(5)"
   ]
  },
  {
   "cell_type": "code",
   "execution_count": 37,
   "metadata": {
    "collapsed": true
   },
   "outputs": [],
   "source": [
    "lodes_tract = lodes.groupby(['w_county_tract', 'h_county_tract'])"
   ]
  },
  {
   "cell_type": "code",
   "execution_count": 49,
   "metadata": {
    "collapsed": false
   },
   "outputs": [],
   "source": [
    "'''w_geocode = []\n",
    "h_geocode = []\n",
    "S000 = []\n",
    "for d in lodes_tract.groups:\n",
    "    group = lodes_tract.get_group(d)\n",
    "    w_geocode.append(d[0])\n",
    "    h_geocode.append(d[1])\n",
    "    S000.append(group.sum()['S000'])'''\n",
    "tract_commutes = lodes_tract.sum().reset_index()"
   ]
  },
  {
   "cell_type": "code",
   "execution_count": null,
   "metadata": {
    "collapsed": true
   },
   "outputs": [],
   "source": [
    "#tract_commutes = pd.DataFrame({'w_county_tract': w_geocode, 'h_county_tract': h_geocode, 'S000': S000})"
   ]
  },
  {
   "cell_type": "code",
   "execution_count": 21,
   "metadata": {
    "collapsed": true
   },
   "outputs": [],
   "source": [
    "times = pd.read_csv('../data/output/time_matrix.csv', dtype={'o_code': str, 'd_code': str})"
   ]
  },
  {
   "cell_type": "code",
   "execution_count": 22,
   "metadata": {
    "collapsed": false
   },
   "outputs": [
    {
     "data": {
      "text/html": [
       "<div>\n",
       "<table border=\"1\" class=\"dataframe\">\n",
       "  <thead>\n",
       "    <tr style=\"text-align: right;\">\n",
       "      <th></th>\n",
       "      <th>o_code</th>\n",
       "      <th>d_code</th>\n",
       "      <th>walk_dist</th>\n",
       "      <th>travel_seconds</th>\n",
       "    </tr>\n",
       "  </thead>\n",
       "  <tbody>\n",
       "    <tr>\n",
       "      <th>0</th>\n",
       "      <td>(u'1', u'000201')</td>\n",
       "      <td>(u'1', u'000201')</td>\n",
       "      <td>168.000000</td>\n",
       "      <td>126</td>\n",
       "    </tr>\n",
       "    <tr>\n",
       "      <th>1</th>\n",
       "      <td>(u'1', u'000201')</td>\n",
       "      <td>(u'1', u'000202')</td>\n",
       "      <td>741.053677</td>\n",
       "      <td>571</td>\n",
       "    </tr>\n",
       "    <tr>\n",
       "      <th>2</th>\n",
       "      <td>(u'1', u'000201')</td>\n",
       "      <td>(u'1', u'000600')</td>\n",
       "      <td>418.356752</td>\n",
       "      <td>316</td>\n",
       "    </tr>\n",
       "    <tr>\n",
       "      <th>3</th>\n",
       "      <td>(u'1', u'000201')</td>\n",
       "      <td>(u'1', u'000700')</td>\n",
       "      <td>888.427045</td>\n",
       "      <td>1315</td>\n",
       "    </tr>\n",
       "    <tr>\n",
       "      <th>4</th>\n",
       "      <td>(u'1', u'000201')</td>\n",
       "      <td>(u'1', u'000800')</td>\n",
       "      <td>823.046677</td>\n",
       "      <td>637</td>\n",
       "    </tr>\n",
       "  </tbody>\n",
       "</table>\n",
       "</div>"
      ],
      "text/plain": [
       "              o_code             d_code   walk_dist  travel_seconds\n",
       "0  (u'1', u'000201')  (u'1', u'000201')  168.000000             126\n",
       "1  (u'1', u'000201')  (u'1', u'000202')  741.053677             571\n",
       "2  (u'1', u'000201')  (u'1', u'000600')  418.356752             316\n",
       "3  (u'1', u'000201')  (u'1', u'000700')  888.427045            1315\n",
       "4  (u'1', u'000201')  (u'1', u'000800')  823.046677             637"
      ]
     },
     "execution_count": 22,
     "metadata": {},
     "output_type": "execute_result"
    }
   ],
   "source": [
    "times.head(5)"
   ]
  },
  {
   "cell_type": "code",
   "execution_count": 25,
   "metadata": {
    "collapsed": false
   },
   "outputs": [],
   "source": [
    "times['boro_code'] = times['o_code'].str[3]"
   ]
  },
  {
   "cell_type": "code",
   "execution_count": 26,
   "metadata": {
    "collapsed": true
   },
   "outputs": [],
   "source": [
    "times['county_code'] = None"
   ]
  },
  {
   "cell_type": "code",
   "execution_count": 30,
   "metadata": {
    "collapsed": false
   },
   "outputs": [
    {
     "name": "stderr",
     "output_type": "stream",
     "text": [
      "c:\\Users\\Jeremy\\Anaconda\\lib\\site-packages\\IPython\\kernel\\__main__.py:1: SettingWithCopyWarning: \n",
      "A value is trying to be set on a copy of a slice from a DataFrame\n",
      "\n",
      "See the the caveats in the documentation: http://pandas.pydata.org/pandas-docs/stable/indexing.html#indexing-view-versus-copy\n",
      "  if __name__ == '__main__':\n",
      "c:\\Users\\Jeremy\\Anaconda\\lib\\site-packages\\IPython\\kernel\\__main__.py:2: SettingWithCopyWarning: \n",
      "A value is trying to be set on a copy of a slice from a DataFrame\n",
      "\n",
      "See the the caveats in the documentation: http://pandas.pydata.org/pandas-docs/stable/indexing.html#indexing-view-versus-copy\n",
      "  from IPython.kernel.zmq import kernelapp as app\n",
      "c:\\Users\\Jeremy\\Anaconda\\lib\\site-packages\\IPython\\kernel\\__main__.py:3: SettingWithCopyWarning: \n",
      "A value is trying to be set on a copy of a slice from a DataFrame\n",
      "\n",
      "See the the caveats in the documentation: http://pandas.pydata.org/pandas-docs/stable/indexing.html#indexing-view-versus-copy\n",
      "  app.launch_new_instance()\n",
      "c:\\Users\\Jeremy\\Anaconda\\lib\\site-packages\\IPython\\kernel\\__main__.py:4: SettingWithCopyWarning: \n",
      "A value is trying to be set on a copy of a slice from a DataFrame\n",
      "\n",
      "See the the caveats in the documentation: http://pandas.pydata.org/pandas-docs/stable/indexing.html#indexing-view-versus-copy\n",
      "c:\\Users\\Jeremy\\Anaconda\\lib\\site-packages\\IPython\\kernel\\__main__.py:5: SettingWithCopyWarning: \n",
      "A value is trying to be set on a copy of a slice from a DataFrame\n",
      "\n",
      "See the the caveats in the documentation: http://pandas.pydata.org/pandas-docs/stable/indexing.html#indexing-view-versus-copy\n"
     ]
    }
   ],
   "source": [
    "times['county_code'][times['boro_code'] == '1'] = '061' # Manhattan\n",
    "times['county_code'][times['boro_code'] == '2'] = '005' # Bronx\n",
    "times['county_code'][times['boro_code'] == '3'] = '047' # Brooklyn\n",
    "times['county_code'][times['boro_code'] == '4'] = '081' # Queens\n",
    "times['county_code'][times['boro_code'] == '5'] = '085' # Staten Island"
   ]
  },
  {
   "cell_type": "code",
   "execution_count": 32,
   "metadata": {
    "collapsed": false
   },
   "outputs": [
    {
     "data": {
      "text/html": [
       "<div>\n",
       "<table border=\"1\" class=\"dataframe\">\n",
       "  <thead>\n",
       "    <tr style=\"text-align: right;\">\n",
       "      <th></th>\n",
       "      <th>o_code</th>\n",
       "      <th>d_code</th>\n",
       "      <th>walk_dist</th>\n",
       "      <th>travel_seconds</th>\n",
       "      <th>boro_code</th>\n",
       "      <th>county_code</th>\n",
       "    </tr>\n",
       "  </thead>\n",
       "  <tbody>\n",
       "    <tr>\n",
       "      <th>0</th>\n",
       "      <td>(u'1', u'000201')</td>\n",
       "      <td>(u'1', u'000201')</td>\n",
       "      <td>168.000000</td>\n",
       "      <td>126</td>\n",
       "      <td>1</td>\n",
       "      <td>061</td>\n",
       "    </tr>\n",
       "    <tr>\n",
       "      <th>1</th>\n",
       "      <td>(u'1', u'000201')</td>\n",
       "      <td>(u'1', u'000202')</td>\n",
       "      <td>741.053677</td>\n",
       "      <td>571</td>\n",
       "      <td>1</td>\n",
       "      <td>061</td>\n",
       "    </tr>\n",
       "    <tr>\n",
       "      <th>2</th>\n",
       "      <td>(u'1', u'000201')</td>\n",
       "      <td>(u'1', u'000600')</td>\n",
       "      <td>418.356752</td>\n",
       "      <td>316</td>\n",
       "      <td>1</td>\n",
       "      <td>061</td>\n",
       "    </tr>\n",
       "    <tr>\n",
       "      <th>3</th>\n",
       "      <td>(u'1', u'000201')</td>\n",
       "      <td>(u'1', u'000700')</td>\n",
       "      <td>888.427045</td>\n",
       "      <td>1315</td>\n",
       "      <td>1</td>\n",
       "      <td>061</td>\n",
       "    </tr>\n",
       "    <tr>\n",
       "      <th>4</th>\n",
       "      <td>(u'1', u'000201')</td>\n",
       "      <td>(u'1', u'000800')</td>\n",
       "      <td>823.046677</td>\n",
       "      <td>637</td>\n",
       "      <td>1</td>\n",
       "      <td>061</td>\n",
       "    </tr>\n",
       "  </tbody>\n",
       "</table>\n",
       "</div>"
      ],
      "text/plain": [
       "              o_code             d_code   walk_dist  travel_seconds boro_code  \\\n",
       "0  (u'1', u'000201')  (u'1', u'000201')  168.000000             126         1   \n",
       "1  (u'1', u'000201')  (u'1', u'000202')  741.053677             571         1   \n",
       "2  (u'1', u'000201')  (u'1', u'000600')  418.356752             316         1   \n",
       "3  (u'1', u'000201')  (u'1', u'000700')  888.427045            1315         1   \n",
       "4  (u'1', u'000201')  (u'1', u'000800')  823.046677             637         1   \n",
       "\n",
       "  county_code  \n",
       "0         061  \n",
       "1         061  \n",
       "2         061  \n",
       "3         061  \n",
       "4         061  "
      ]
     },
     "execution_count": 32,
     "metadata": {},
     "output_type": "execute_result"
    }
   ],
   "source": [
    "times.head(5)"
   ]
  },
  {
   "cell_type": "code",
   "execution_count": 54,
   "metadata": {
    "collapsed": false
   },
   "outputs": [],
   "source": [
    "times['h_county_tract'] = times['county_code'] + times['o_code'].str[9:15]\n",
    "times['w_county_tract'] = times['county_code'] + times['d_code'].str[9:15]"
   ]
  },
  {
   "cell_type": "code",
   "execution_count": 55,
   "metadata": {
    "collapsed": false
   },
   "outputs": [
    {
     "data": {
      "text/html": [
       "<div>\n",
       "<table border=\"1\" class=\"dataframe\">\n",
       "  <thead>\n",
       "    <tr style=\"text-align: right;\">\n",
       "      <th></th>\n",
       "      <th>o_code</th>\n",
       "      <th>d_code</th>\n",
       "      <th>walk_dist</th>\n",
       "      <th>travel_seconds</th>\n",
       "      <th>boro_code</th>\n",
       "      <th>county_code</th>\n",
       "      <th>h_county_code</th>\n",
       "      <th>w_county_code</th>\n",
       "      <th>h_county_tract</th>\n",
       "      <th>w_county_tract</th>\n",
       "    </tr>\n",
       "  </thead>\n",
       "  <tbody>\n",
       "    <tr>\n",
       "      <th>0</th>\n",
       "      <td>(u'1', u'000201')</td>\n",
       "      <td>(u'1', u'000201')</td>\n",
       "      <td>168.000000</td>\n",
       "      <td>126</td>\n",
       "      <td>1</td>\n",
       "      <td>061</td>\n",
       "      <td>061000201</td>\n",
       "      <td>061000201</td>\n",
       "      <td>061000201</td>\n",
       "      <td>061000201</td>\n",
       "    </tr>\n",
       "    <tr>\n",
       "      <th>1</th>\n",
       "      <td>(u'1', u'000201')</td>\n",
       "      <td>(u'1', u'000202')</td>\n",
       "      <td>741.053677</td>\n",
       "      <td>571</td>\n",
       "      <td>1</td>\n",
       "      <td>061</td>\n",
       "      <td>061000201</td>\n",
       "      <td>061000202</td>\n",
       "      <td>061000201</td>\n",
       "      <td>061000202</td>\n",
       "    </tr>\n",
       "    <tr>\n",
       "      <th>2</th>\n",
       "      <td>(u'1', u'000201')</td>\n",
       "      <td>(u'1', u'000600')</td>\n",
       "      <td>418.356752</td>\n",
       "      <td>316</td>\n",
       "      <td>1</td>\n",
       "      <td>061</td>\n",
       "      <td>061000201</td>\n",
       "      <td>061000600</td>\n",
       "      <td>061000201</td>\n",
       "      <td>061000600</td>\n",
       "    </tr>\n",
       "    <tr>\n",
       "      <th>3</th>\n",
       "      <td>(u'1', u'000201')</td>\n",
       "      <td>(u'1', u'000700')</td>\n",
       "      <td>888.427045</td>\n",
       "      <td>1315</td>\n",
       "      <td>1</td>\n",
       "      <td>061</td>\n",
       "      <td>061000201</td>\n",
       "      <td>061000700</td>\n",
       "      <td>061000201</td>\n",
       "      <td>061000700</td>\n",
       "    </tr>\n",
       "    <tr>\n",
       "      <th>4</th>\n",
       "      <td>(u'1', u'000201')</td>\n",
       "      <td>(u'1', u'000800')</td>\n",
       "      <td>823.046677</td>\n",
       "      <td>637</td>\n",
       "      <td>1</td>\n",
       "      <td>061</td>\n",
       "      <td>061000201</td>\n",
       "      <td>061000800</td>\n",
       "      <td>061000201</td>\n",
       "      <td>061000800</td>\n",
       "    </tr>\n",
       "  </tbody>\n",
       "</table>\n",
       "</div>"
      ],
      "text/plain": [
       "              o_code             d_code   walk_dist  travel_seconds boro_code  \\\n",
       "0  (u'1', u'000201')  (u'1', u'000201')  168.000000             126         1   \n",
       "1  (u'1', u'000201')  (u'1', u'000202')  741.053677             571         1   \n",
       "2  (u'1', u'000201')  (u'1', u'000600')  418.356752             316         1   \n",
       "3  (u'1', u'000201')  (u'1', u'000700')  888.427045            1315         1   \n",
       "4  (u'1', u'000201')  (u'1', u'000800')  823.046677             637         1   \n",
       "\n",
       "  county_code h_county_code w_county_code h_county_tract w_county_tract  \n",
       "0         061     061000201     061000201      061000201      061000201  \n",
       "1         061     061000201     061000202      061000201      061000202  \n",
       "2         061     061000201     061000600      061000201      061000600  \n",
       "3         061     061000201     061000700      061000201      061000700  \n",
       "4         061     061000201     061000800      061000201      061000800  "
      ]
     },
     "execution_count": 55,
     "metadata": {},
     "output_type": "execute_result"
    }
   ],
   "source": [
    "times.head(5)"
   ]
  },
  {
   "cell_type": "code",
   "execution_count": 59,
   "metadata": {
    "collapsed": false
   },
   "outputs": [],
   "source": [
    "joined = times.merge(tract_commutes, on=('h_county_tract', 'w_county_tract'), how='inner')"
   ]
  },
  {
   "cell_type": "code",
   "execution_count": 61,
   "metadata": {
    "collapsed": false
   },
   "outputs": [],
   "source": [
    "joined['total_commute_time'] = joined['travel_seconds'] * joined['S000']\n",
    "joined['total_walk_dist'] = joined['walk_dist'] * joined['S000']"
   ]
  },
  {
   "cell_type": "code",
   "execution_count": 63,
   "metadata": {
    "collapsed": false
   },
   "outputs": [],
   "source": [
    "h_tracts = joined.groupby('h_county_tract')"
   ]
  },
  {
   "cell_type": "code",
   "execution_count": 68,
   "metadata": {
    "collapsed": false
   },
   "outputs": [],
   "source": [
    "sums = h_tracts.sum()\n",
    "sums['travel_seconds']/sums['S000']\n",
    "summary = pd.DataFrame({\n",
    "    #'county_tract': sums.index,\n",
    "    'average_commute_time': sums['travel_seconds']/sums['S000'],\n",
    "    'average_walk_distance': sums['walk_dist']/sums['S000'],\n",
    "    'number_of_commuters': sums['S000']\n",
    "})"
   ]
  },
  {
   "cell_type": "code",
   "execution_count": 72,
   "metadata": {
    "collapsed": false
   },
   "outputs": [],
   "source": [
    "summary.to_csv('tract_commute_summary.csv')"
   ]
  },
  {
   "cell_type": "code",
   "execution_count": null,
   "metadata": {
    "collapsed": true
   },
   "outputs": [],
   "source": []
  }
 ],
 "metadata": {
  "kernelspec": {
   "display_name": "Python 2",
   "language": "python",
   "name": "python2"
  },
  "language_info": {
   "codemirror_mode": {
    "name": "ipython",
    "version": 2
   },
   "file_extension": ".py",
   "mimetype": "text/x-python",
   "name": "python",
   "nbconvert_exporter": "python",
   "pygments_lexer": "ipython2",
   "version": "2.7.10"
  }
 },
 "nbformat": 4,
 "nbformat_minor": 0
}
