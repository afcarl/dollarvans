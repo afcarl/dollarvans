{
 "cells": [
  {
   "cell_type": "code",
   "execution_count": 1,
   "metadata": {
    "collapsed": false
   },
   "outputs": [
    {
     "name": "stdout",
     "output_type": "stream",
     "text": [
      "Populating the interactive namespace from numpy and matplotlib\n"
     ]
    }
   ],
   "source": [
    "#Based on this tutorial - http://sebastianraschka.com/Articles/2015_pca_in_3_steps.html\n",
    "\n",
    "import pandas as pd\n",
    "import pylab as pl\n",
    "import numpy as np \n",
    "import geopandas as gp\n",
    "%pylab inline"
   ]
  },
  {
   "cell_type": "markdown",
   "metadata": {},
   "source": [
    "### Data munging for all DV routes"
   ]
  },
  {
   "cell_type": "code",
   "execution_count": 2,
   "metadata": {
    "collapsed": true
   },
   "outputs": [],
   "source": [
    "demographics = pd.read_excel('../data/DemoData.xlsx')\n",
    "demographics['tract'] = demographics.ID.astype(str).str.zfill(9)"
   ]
  },
  {
   "cell_type": "code",
   "execution_count": 63,
   "metadata": {
    "collapsed": false
   },
   "outputs": [],
   "source": [
    "shp = gp.GeoDataFrame.from_file('../data/merged.json')\n",
    "\n",
    "shp = shp.merge(demographics, on='tract')\n",
    "\n",
    "shp.rename(columns={\n",
    "    'Destination?': 'is_dest',\n",
    "    'Origin?': 'is_orig',\n",
    "    'Total Population': 'pop',\n",
    "    '18 to 24 yrs': '_18_to_24',\n",
    "    '65 and Above': 'above_65',\n",
    "    'Median Age': 'age',\n",
    "    'Non-white': 'nonwhite',\n",
    "    'English less than \"very well\"': 'nonenglish',\n",
    "    'Annaul Individual Income below 10000': 'income_below_10000',\n",
    "    'Annaul Individual Income below 15000': 'income_below_15000',\n",
    "    'Median Income': 'income',\n",
    "    'Below 100 percent of the poverty level': 'below_pov',\n",
    "    '100 to 149 percent of the poverty level': '_100_149_pov',\n",
    "    'At or above 150 percent of the poverty level': 'above_150_pov',\n",
    "    'Citizenship status': 'noncitizen',\n",
    "    'Place of Birth': 'foreignborn'\n",
    "}, inplace=True)"
   ]
  },
  {
   "cell_type": "code",
   "execution_count": 64,
   "metadata": {
    "collapsed": true
   },
   "outputs": [],
   "source": [
    "lehd = pd.read_csv('../data/merged.csv', dtype={'tract': str})\n",
    "\n",
    "lehd = lehd.drop([u'Unnamed: 0', u'Both', u'Destination?', u'DollarVanLine', u'Origin?',\n",
    "       u'average_commute_time', u'average_walk_distance', u'geometry',\n",
    "       u'number_of_commuters',  u'w_county_tract', u'h_county_tract'], 1)\n",
    "\n",
    "shp = shp.merge(lehd, on='tract')"
   ]
  },
  {
   "cell_type": "code",
   "execution_count": 65,
   "metadata": {
    "collapsed": true
   },
   "outputs": [],
   "source": [
    "shp.dropna(how=\"all\", inplace=True)"
   ]
  },
  {
   "cell_type": "code",
   "execution_count": 66,
   "metadata": {
    "collapsed": false
   },
   "outputs": [
    {
     "name": "stderr",
     "output_type": "stream",
     "text": [
      "/Library/Python/2.7/site-packages/ipykernel/__main__.py:4: SettingWithCopyWarning: \n",
      "A value is trying to be set on a copy of a slice from a DataFrame\n",
      "\n",
      "See the the caveats in the documentation: http://pandas.pydata.org/pandas-docs/stable/indexing.html#indexing-view-versus-copy\n",
      "/Library/Python/2.7/site-packages/ipykernel/__main__.py:5: SettingWithCopyWarning: \n",
      "A value is trying to be set on a copy of a slice from a DataFrame\n",
      "\n",
      "See the the caveats in the documentation: http://pandas.pydata.org/pandas-docs/stable/indexing.html#indexing-view-versus-copy\n",
      "/Library/Python/2.7/site-packages/ipykernel/__main__.py:6: SettingWithCopyWarning: \n",
      "A value is trying to be set on a copy of a slice from a DataFrame\n",
      "\n",
      "See the the caveats in the documentation: http://pandas.pydata.org/pandas-docs/stable/indexing.html#indexing-view-versus-copy\n",
      "/Library/Python/2.7/site-packages/ipykernel/__main__.py:7: SettingWithCopyWarning: \n",
      "A value is trying to be set on a copy of a slice from a DataFrame\n",
      "\n",
      "See the the caveats in the documentation: http://pandas.pydata.org/pandas-docs/stable/indexing.html#indexing-view-versus-copy\n",
      "/Library/Python/2.7/site-packages/ipykernel/__main__.py:8: SettingWithCopyWarning: \n",
      "A value is trying to be set on a copy of a slice from a DataFrame\n",
      "\n",
      "See the the caveats in the documentation: http://pandas.pydata.org/pandas-docs/stable/indexing.html#indexing-view-versus-copy\n"
     ]
    }
   ],
   "source": [
    "routes = pd.read_csv('../data/csv/masterroutes.csv', dtype={'CT2010': str, 'BoroCode': str})\n",
    "\n",
    "routes['county_code'] = \"\"\n",
    "routes['county_code'][routes['BoroCode'] == '1'] = '061' # Manhattan\n",
    "routes['county_code'][routes['BoroCode'] == '2'] = '005' # Bronx\n",
    "routes['county_code'][routes['BoroCode'] == '3'] = '047' # Brooklyn\n",
    "routes['county_code'][routes['BoroCode'] == '4'] = '081' # Queens\n",
    "routes['county_code'][routes['BoroCode'] == '5'] = '085' # Staten Island\n",
    "\n",
    "routes['tract'] = routes['county_code'] + routes['CT2010']\n",
    "\n",
    "routes.drop(['FID',\n",
    " 'FID_1',\n",
    " 'CTLabel',\n",
    " 'BoroCode',\n",
    " 'BoroName',\n",
    " 'CT2010',\n",
    " 'BoroCT2010',\n",
    " 'CDEligibil',\n",
    " 'NTACode',\n",
    " 'NTAName',\n",
    " 'PUMA',\n",
    " 'Shape_Leng',\n",
    " 'Shape_Area',\n",
    " 'Count_'\n",
    "], 1, inplace = True)\n",
    "\n"
   ]
  },
  {
   "cell_type": "code",
   "execution_count": 67,
   "metadata": {
    "collapsed": true
   },
   "outputs": [],
   "source": [
    "shp = shp.merge(routes, on = 'tract')"
   ]
  },
  {
   "cell_type": "code",
   "execution_count": 68,
   "metadata": {
    "collapsed": false
   },
   "outputs": [
    {
     "data": {
      "text/plain": [
       "Index([                 u'Both',               u'is_dest',\n",
       "               u'DollarVanLine',               u'is_orig',\n",
       "        u'average_commute_time', u'average_walk_distance',\n",
       "                    u'geometry',   u'number_of_commuters',\n",
       "                       u'tract',                    u'ID',\n",
       "                   u'Geography',                   u'pop',\n",
       "                   u'_18_to_24',              u'above_65',\n",
       "                         u'age',              u'nonwhite',\n",
       "                  u'nonenglish',    u'income_below_10000',\n",
       "          u'income_below_15000',                u'income',\n",
       "                   u'below_pov',          u'_100_149_pov',\n",
       "               u'above_150_pov',            u'noncitizen',\n",
       "                 u'foreignborn',        u'wac_total_jobs',\n",
       "              u'wac_jobs_lt_29',        u'wac_jobs_30_54',\n",
       "              u'wac_jobs_gt_55',      u'wac_minc_lt_1250',\n",
       "          u'wac_minc_1251_3333',      u'wac_minc_gt_3333',\n",
       "              u'rac_total_jobs',        u'rac_jobs_lt_29',\n",
       "              u'rac_jobs_30_54',        u'rac_jobs_gt_55',\n",
       "            u'rac_minc_lt_1250',    u'rac_minc_1251_3333',\n",
       "            u'rac_minc_gt_3333',                u'Sum_Id',\n",
       "                 u'Destination',          u'FlatbushDest',\n",
       "                   u'ChinaDest',                u'Jamica',\n",
       "                 u'OriginChina',            u'OriginFlat',\n",
       "                u'OriginJamica',           u'county_code'],\n",
       "      dtype='object')"
      ]
     },
     "execution_count": 68,
     "metadata": {},
     "output_type": "execute_result"
    }
   ],
   "source": [
    "shp.columns"
   ]
  },
  {
   "cell_type": "markdown",
   "metadata": {},
   "source": [
    "### Individual routes\n",
    "#### Chinatown"
   ]
  },
  {
   "cell_type": "code",
   "execution_count": 73,
   "metadata": {
    "collapsed": false
   },
   "outputs": [],
   "source": [
    "#All\n",
    "\n",
    "all_data = shp.ix[:,4:]\n",
    "labels = shp['DollarVanLine']\n",
    "all_data = shp[routes_data['OriginChina'] == 1]\n",
    "\n",
    "all_data = all_data[[\n",
    "        u'average_commute_time', u'average_walk_distance',\n",
    "        u'number_of_commuters',u'pop',\n",
    "                       u'_18_to_24',                    u'above_65',\n",
    "                         u'age',             u'nonwhite',\n",
    "                  u'nonenglish',    u'income_below_10000',\n",
    "          u'income_below_15000',                u'income',\n",
    "                  u'noncitizen',           u'foreignborn',\n",
    "              u'wac_total_jobs',\n",
    "              u'wac_jobs_lt_29',        u'wac_jobs_30_54',\n",
    "              u'wac_jobs_gt_55',      u'wac_minc_lt_1250',\n",
    "          u'wac_minc_1251_3333',      u'wac_minc_gt_3333',\n",
    "              u'rac_total_jobs',        u'rac_jobs_lt_29',\n",
    "              u'rac_jobs_30_54',        u'rac_jobs_gt_55',\n",
    "            u'rac_minc_lt_1250',    u'rac_minc_1251_3333',\n",
    "            u'rac_minc_gt_3333'\n",
    "]]\n",
    "\n",
    "#Dropping poverty because nans while computing covariance matrix\n",
    "all_data_std = all_data\n",
    "\n",
    "# Standardize Value Range\n",
    "\n",
    "for c in [\n",
    "        u'average_commute_time', u'average_walk_distance',\n",
    "        u'number_of_commuters',u'pop',\n",
    "                       u'_18_to_24',                    u'above_65',\n",
    "                         u'age',             u'nonwhite',\n",
    "                  u'nonenglish',    u'income_below_10000',\n",
    "          u'income_below_15000',                u'income',\n",
    "                 u'noncitizen',\n",
    "                 u'foreignborn',        u'wac_total_jobs',\n",
    "              u'wac_jobs_lt_29',        u'wac_jobs_30_54',\n",
    "              u'wac_jobs_gt_55',      u'wac_minc_lt_1250',\n",
    "          u'wac_minc_1251_3333',      u'wac_minc_gt_3333',\n",
    "              u'rac_total_jobs',        u'rac_jobs_lt_29',\n",
    "              u'rac_jobs_30_54',        u'rac_jobs_gt_55',\n",
    "            u'rac_minc_lt_1250',    u'rac_minc_1251_3333',\n",
    "            u'rac_minc_gt_3333'\n",
    "]:\n",
    "    all_data_std[c] = ((all_data_std[c] - all_data_std[c].mean())/all_data_std[c].std())\n",
    "    \n"
   ]
  },
  {
   "cell_type": "code",
   "execution_count": 76,
   "metadata": {
    "collapsed": false
   },
   "outputs": [],
   "source": [
    "#Origins\n",
    "\n",
    "china_data_o = shp.ix[:,4:]\n",
    "labels = shp['DollarVanLine']\n",
    "china_data_o = shp[routes_data['OriginChina'] == 1]\n",
    "\n",
    "china_data_o = china_data_o[[\n",
    "        u'average_commute_time', u'average_walk_distance',\n",
    "        u'number_of_commuters',u'pop',\n",
    "                       u'_18_to_24',                    u'above_65',\n",
    "                         u'age',             u'nonwhite',\n",
    "                  u'nonenglish',    u'income_below_10000',\n",
    "          u'income_below_15000',                u'income',\n",
    "                  u'noncitizen',           u'foreignborn',\n",
    "              u'wac_total_jobs',\n",
    "              u'wac_jobs_lt_29',        u'wac_jobs_30_54',\n",
    "              u'wac_jobs_gt_55',      u'wac_minc_lt_1250',\n",
    "          u'wac_minc_1251_3333',      u'wac_minc_gt_3333',\n",
    "              u'rac_total_jobs',        u'rac_jobs_lt_29',\n",
    "              u'rac_jobs_30_54',        u'rac_jobs_gt_55',\n",
    "            u'rac_minc_lt_1250',    u'rac_minc_1251_3333',\n",
    "            u'rac_minc_gt_3333'\n",
    "]]\n",
    "\n",
    "#Dropping poverty because nans while computing covariance matrix\n",
    "china_data_o_std = china_data_o\n",
    "\n",
    "# Standardize Value Range\n",
    "\n",
    "for c in [\n",
    "        u'average_commute_time', u'average_walk_distance',\n",
    "        u'number_of_commuters',u'pop',\n",
    "                       u'_18_to_24',                    u'above_65',\n",
    "                         u'age',             u'nonwhite',\n",
    "                  u'nonenglish',    u'income_below_10000',\n",
    "          u'income_below_15000',                u'income',\n",
    "                 u'noncitizen',\n",
    "                 u'foreignborn',        u'wac_total_jobs',\n",
    "              u'wac_jobs_lt_29',        u'wac_jobs_30_54',\n",
    "              u'wac_jobs_gt_55',      u'wac_minc_lt_1250',\n",
    "          u'wac_minc_1251_3333',      u'wac_minc_gt_3333',\n",
    "              u'rac_total_jobs',        u'rac_jobs_lt_29',\n",
    "              u'rac_jobs_30_54',        u'rac_jobs_gt_55',\n",
    "            u'rac_minc_lt_1250',    u'rac_minc_1251_3333',\n",
    "            u'rac_minc_gt_3333'\n",
    "]:\n",
    "    china_data_o_std[c] = ((china_data_o_std[c] - china_data_o_std[c].mean())/china_data_o_std[c].std())\n",
    "    \n"
   ]
  },
  {
   "cell_type": "code",
   "execution_count": 85,
   "metadata": {
    "collapsed": false
   },
   "outputs": [],
   "source": [
    "#Destination\n",
    "\n",
    "china_data_d = shp.ix[:,4:]\n",
    "labels = shp['DollarVanLine']\n",
    "china_data_d = shp[routes_data['OriginChina'] == 1]\n",
    "\n",
    "china_data_d = china_data_d[[\n",
    "        u'average_commute_time', u'average_walk_distance',\n",
    "        u'number_of_commuters',u'pop',\n",
    "                       u'_18_to_24',                    u'above_65',\n",
    "                         u'age',             u'nonwhite',\n",
    "                  u'nonenglish',    u'income_below_10000',\n",
    "          u'income_below_15000',                u'income',\n",
    "                  u'noncitizen',           u'foreignborn',\n",
    "              u'wac_total_jobs',\n",
    "              u'wac_jobs_lt_29',        u'wac_jobs_30_54',\n",
    "              u'wac_jobs_gt_55',      u'wac_minc_lt_1250',\n",
    "          u'wac_minc_1251_3333',      u'wac_minc_gt_3333',\n",
    "              u'rac_total_jobs',        u'rac_jobs_lt_29',\n",
    "              u'rac_jobs_30_54',        u'rac_jobs_gt_55',\n",
    "            u'rac_minc_lt_1250',    u'rac_minc_1251_3333',\n",
    "            u'rac_minc_gt_3333'\n",
    "]]\n",
    "\n",
    "#Dropping poverty because nans while computing covariance matrix\n",
    "china_data_d_std = china_data_d\n",
    "\n",
    "# Standardize Value Range\n",
    "\n",
    "for c in [\n",
    "        u'average_commute_time', u'average_walk_distance',\n",
    "        u'number_of_commuters',u'pop',\n",
    "                       u'_18_to_24',                    u'above_65',\n",
    "                         u'age',             u'nonwhite',\n",
    "                  u'nonenglish',    u'income_below_10000',\n",
    "          u'income_below_15000',                u'income',\n",
    "                 u'noncitizen',\n",
    "                 u'foreignborn',        u'wac_total_jobs',\n",
    "              u'wac_jobs_lt_29',        u'wac_jobs_30_54',\n",
    "              u'wac_jobs_gt_55',      u'wac_minc_lt_1250',\n",
    "          u'wac_minc_1251_3333',      u'wac_minc_gt_3333',\n",
    "              u'rac_total_jobs',        u'rac_jobs_lt_29',\n",
    "              u'rac_jobs_30_54',        u'rac_jobs_gt_55',\n",
    "            u'rac_minc_lt_1250',    u'rac_minc_1251_3333',\n",
    "            u'rac_minc_gt_3333'\n",
    "]:\n",
    "    china_data_d_std[c] = ((china_data_d_std[c] - china_data_d_std[c].mean())/china_data_d_std[c].std())\n",
    "    \n"
   ]
  },
  {
   "cell_type": "markdown",
   "metadata": {},
   "source": [
    "#### Flatbush"
   ]
  },
  {
   "cell_type": "code",
   "execution_count": 11,
   "metadata": {
    "collapsed": false
   },
   "outputs": [
    {
     "name": "stderr",
     "output_type": "stream",
     "text": [
      "/Library/Python/2.7/site-packages/ipykernel/__main__.py:45: SettingWithCopyWarning: \n",
      "A value is trying to be set on a copy of a slice from a DataFrame.\n",
      "Try using .loc[row_indexer,col_indexer] = value instead\n",
      "\n",
      "See the the caveats in the documentation: http://pandas.pydata.org/pandas-docs/stable/indexing.html#indexing-view-versus-copy\n"
     ]
    }
   ],
   "source": [
    "#Origins\n",
    "\n",
    "flat_route_o = shp.ix[:,4:]\n",
    "labels = shp['DollarVanLine']\n",
    "flat_route_o = shp[routes_data['OriginFlat'] == 1]\n",
    "\n",
    "flat_route_o = flat_route_o[[\n",
    "        u'average_commute_time', u'average_walk_distance',\n",
    "        u'number_of_commuters',u'pop',\n",
    "                       u'_18_to_24',                    u'above_65',\n",
    "                         u'age',             u'nonwhite',\n",
    "                  u'nonenglish',    u'income_below_10000',\n",
    "          u'income_below_15000',                u'income',\n",
    "                  u'noncitizen',           u'foreignborn',\n",
    "              u'wac_total_jobs',\n",
    "              u'wac_jobs_lt_29',        u'wac_jobs_30_54',\n",
    "              u'wac_jobs_gt_55',      u'wac_minc_lt_1250',\n",
    "          u'wac_minc_1251_3333',      u'wac_minc_gt_3333',\n",
    "              u'rac_total_jobs',        u'rac_jobs_lt_29',\n",
    "              u'rac_jobs_30_54',        u'rac_jobs_gt_55',\n",
    "            u'rac_minc_lt_1250',    u'rac_minc_1251_3333',\n",
    "            u'rac_minc_gt_3333'\n",
    "]]\n",
    "\n",
    "#Dropping poverty because nans while computing covariance matrix\n",
    "flat_route_o_std = flat_route_o\n",
    "\n",
    "# Standardize Value Range\n",
    "\n",
    "for c in [\n",
    "        u'average_commute_time', u'average_walk_distance',\n",
    "        u'number_of_commuters',u'pop',\n",
    "                       u'_18_to_24',                    u'above_65',\n",
    "                         u'age',             u'nonwhite',\n",
    "                  u'nonenglish',    u'income_below_10000',\n",
    "          u'income_below_15000',                u'income',\n",
    "                 u'noncitizen',\n",
    "                 u'foreignborn',        u'wac_total_jobs',\n",
    "              u'wac_jobs_lt_29',        u'wac_jobs_30_54',\n",
    "              u'wac_jobs_gt_55',      u'wac_minc_lt_1250',\n",
    "          u'wac_minc_1251_3333',      u'wac_minc_gt_3333',\n",
    "              u'rac_total_jobs',        u'rac_jobs_lt_29',\n",
    "              u'rac_jobs_30_54',        u'rac_jobs_gt_55',\n",
    "            u'rac_minc_lt_1250',    u'rac_minc_1251_3333',\n",
    "            u'rac_minc_gt_3333'\n",
    "]:\n",
    "    flat_route_o_std[c] = ((flat_route_o_std[c] - flat_route_o_std[c].mean())/flat_route_o_std[c].std())\n",
    "    \n",
    "\n"
   ]
  },
  {
   "cell_type": "code",
   "execution_count": 86,
   "metadata": {
    "collapsed": false
   },
   "outputs": [],
   "source": [
    "#Destination\n",
    "\n",
    "flat_route_d = shp.ix[:,4:]\n",
    "labels = shp['DollarVanLine']\n",
    "flat_route_d = shp[routes_data['FlatbushDest'] == 1]\n",
    "\n",
    "flat_route_d = flat_route_d[[\n",
    "        u'average_commute_time', u'average_walk_distance',\n",
    "        u'number_of_commuters',u'pop',\n",
    "                       u'_18_to_24',                    u'above_65',\n",
    "                         u'age',             u'nonwhite',\n",
    "                  u'nonenglish',    u'income_below_10000',\n",
    "          u'income_below_15000',                u'income',\n",
    "                  u'noncitizen',           u'foreignborn',\n",
    "              u'wac_total_jobs',\n",
    "              u'wac_jobs_lt_29',        u'wac_jobs_30_54',\n",
    "              u'wac_jobs_gt_55',      u'wac_minc_lt_1250',\n",
    "          u'wac_minc_1251_3333',      u'wac_minc_gt_3333',\n",
    "              u'rac_total_jobs',        u'rac_jobs_lt_29',\n",
    "              u'rac_jobs_30_54',        u'rac_jobs_gt_55',\n",
    "            u'rac_minc_lt_1250',    u'rac_minc_1251_3333',\n",
    "            u'rac_minc_gt_3333'\n",
    "]]\n",
    "\n",
    "#Dropping poverty because nans while computing covariance matrix\n",
    "flat_route_d_std = flat_route_d\n",
    "\n",
    "# Standardize Value Range\n",
    "\n",
    "for c in [\n",
    "        u'average_commute_time', u'average_walk_distance',\n",
    "        u'number_of_commuters',u'pop',\n",
    "                       u'_18_to_24',                    u'above_65',\n",
    "                         u'age',             u'nonwhite',\n",
    "                  u'nonenglish',    u'income_below_10000',\n",
    "          u'income_below_15000',                u'income',\n",
    "                 u'noncitizen',\n",
    "                 u'foreignborn',        u'wac_total_jobs',\n",
    "              u'wac_jobs_lt_29',        u'wac_jobs_30_54',\n",
    "              u'wac_jobs_gt_55',      u'wac_minc_lt_1250',\n",
    "          u'wac_minc_1251_3333',      u'wac_minc_gt_3333',\n",
    "              u'rac_total_jobs',        u'rac_jobs_lt_29',\n",
    "              u'rac_jobs_30_54',        u'rac_jobs_gt_55',\n",
    "            u'rac_minc_lt_1250',    u'rac_minc_1251_3333',\n",
    "            u'rac_minc_gt_3333'\n",
    "]:\n",
    "    flat_route_d_std[c] = ((flat_route_d_std[c] - flat_route_d_std[c].mean())/flat_route_d_std[c].std())\n",
    "    \n",
    "\n"
   ]
  },
  {
   "cell_type": "markdown",
   "metadata": {},
   "source": [
    "#### Jamaica"
   ]
  },
  {
   "cell_type": "code",
   "execution_count": 19,
   "metadata": {
    "collapsed": false
   },
   "outputs": [
    {
     "name": "stderr",
     "output_type": "stream",
     "text": [
      "/Library/Python/2.7/site-packages/ipykernel/__main__.py:46: SettingWithCopyWarning: \n",
      "A value is trying to be set on a copy of a slice from a DataFrame.\n",
      "Try using .loc[row_indexer,col_indexer] = value instead\n",
      "\n",
      "See the the caveats in the documentation: http://pandas.pydata.org/pandas-docs/stable/indexing.html#indexing-view-versus-copy\n"
     ]
    }
   ],
   "source": [
    "#Origins\n",
    "\n",
    "jam_route_o = shp.ix[:,4:]\n",
    "labels = shp['DollarVanLine']\n",
    "jam_route_o = shp[routes_data['OriginJamica'] == 1]\n",
    "\n",
    "jam_route_o = jam_route_o[[\n",
    "        u'average_commute_time', u'average_walk_distance',\n",
    "        u'number_of_commuters',u'pop',\n",
    "                       u'_18_to_24',                    u'above_65',\n",
    "                         u'age',             u'nonwhite',\n",
    "                  u'nonenglish',    u'income_below_10000',\n",
    "          u'income_below_15000',                u'income',\n",
    "                  u'noncitizen',           u'foreignborn',\n",
    "              u'wac_total_jobs',\n",
    "              u'wac_jobs_lt_29',        u'wac_jobs_30_54',\n",
    "              u'wac_jobs_gt_55',      u'wac_minc_lt_1250',\n",
    "          u'wac_minc_1251_3333',      u'wac_minc_gt_3333',\n",
    "              u'rac_total_jobs',        u'rac_jobs_lt_29',\n",
    "              u'rac_jobs_30_54',        u'rac_jobs_gt_55',\n",
    "            u'rac_minc_lt_1250',    u'rac_minc_1251_3333',\n",
    "            u'rac_minc_gt_3333'\n",
    "]]\n",
    "\n",
    "#Dropping poverty because nans while computing covariance matrix\n",
    "jam_route_o_std = jam_route_o\n",
    "\n",
    "# Standardize Value Range\n",
    "\n",
    "for c in [\n",
    "        u'average_commute_time', u'average_walk_distance',\n",
    "        u'number_of_commuters',u'pop',\n",
    "                       u'_18_to_24',                    u'above_65',\n",
    "                         u'age',             u'nonwhite',\n",
    "                  u'nonenglish',    u'income_below_10000',\n",
    "          u'income_below_15000',                u'income',\n",
    "                 u'noncitizen',\n",
    "                 u'foreignborn',        u'wac_total_jobs',\n",
    "              u'wac_jobs_lt_29',        u'wac_jobs_30_54',\n",
    "              u'wac_jobs_gt_55',      u'wac_minc_lt_1250',\n",
    "          u'wac_minc_1251_3333',      u'wac_minc_gt_3333',\n",
    "              u'rac_total_jobs',        u'rac_jobs_lt_29',\n",
    "              u'rac_jobs_30_54',        u'rac_jobs_gt_55',\n",
    "            u'rac_minc_lt_1250',    u'rac_minc_1251_3333',\n",
    "            u'rac_minc_gt_3333'\n",
    "]:\n",
    "    jam_route_o_std[c] = ((jam_route_o_std[c] - jam_route_o_std[c].mean())/jam_route_o_std[c].std())\n",
    "    \n",
    "\n",
    "\n",
    "\n"
   ]
  },
  {
   "cell_type": "code",
   "execution_count": 20,
   "metadata": {
    "collapsed": false
   },
   "outputs": [
    {
     "name": "stderr",
     "output_type": "stream",
     "text": [
      "/Library/Python/2.7/site-packages/ipykernel/__main__.py:45: SettingWithCopyWarning: \n",
      "A value is trying to be set on a copy of a slice from a DataFrame.\n",
      "Try using .loc[row_indexer,col_indexer] = value instead\n",
      "\n",
      "See the the caveats in the documentation: http://pandas.pydata.org/pandas-docs/stable/indexing.html#indexing-view-versus-copy\n"
     ]
    }
   ],
   "source": [
    "#Destination\n",
    "\n",
    "jam_route_d = shp.ix[:,4:]\n",
    "labels = shp['DollarVanLine']\n",
    "jam_route_d = shp[routes_data['Jamica'] == 1]\n",
    "\n",
    "jam_route_d = jam_route_d[[\n",
    "        u'average_commute_time', u'average_walk_distance',\n",
    "        u'number_of_commuters',u'pop',\n",
    "                       u'_18_to_24',                    u'above_65',\n",
    "                         u'age',             u'nonwhite',\n",
    "                  u'nonenglish',    u'income_below_10000',\n",
    "          u'income_below_15000',                u'income',\n",
    "                  u'noncitizen',           u'foreignborn',\n",
    "              u'wac_total_jobs',\n",
    "              u'wac_jobs_lt_29',        u'wac_jobs_30_54',\n",
    "              u'wac_jobs_gt_55',      u'wac_minc_lt_1250',\n",
    "          u'wac_minc_1251_3333',      u'wac_minc_gt_3333',\n",
    "              u'rac_total_jobs',        u'rac_jobs_lt_29',\n",
    "              u'rac_jobs_30_54',        u'rac_jobs_gt_55',\n",
    "            u'rac_minc_lt_1250',    u'rac_minc_1251_3333',\n",
    "            u'rac_minc_gt_3333'\n",
    "]]\n",
    "\n",
    "#Dropping poverty because nans while computing covariance matrix\n",
    "jam_route_d_std = jam_route_d\n",
    "\n",
    "# Standardize Value Range\n",
    "\n",
    "for c in [\n",
    "        u'average_commute_time', u'average_walk_distance',\n",
    "        u'number_of_commuters',u'pop',\n",
    "                       u'_18_to_24',                    u'above_65',\n",
    "                         u'age',             u'nonwhite',\n",
    "                  u'nonenglish',    u'income_below_10000',\n",
    "          u'income_below_15000',                u'income',\n",
    "                 u'noncitizen',\n",
    "                 u'foreignborn',        u'wac_total_jobs',\n",
    "              u'wac_jobs_lt_29',        u'wac_jobs_30_54',\n",
    "              u'wac_jobs_gt_55',      u'wac_minc_lt_1250',\n",
    "          u'wac_minc_1251_3333',      u'wac_minc_gt_3333',\n",
    "              u'rac_total_jobs',        u'rac_jobs_lt_29',\n",
    "              u'rac_jobs_30_54',        u'rac_jobs_gt_55',\n",
    "            u'rac_minc_lt_1250',    u'rac_minc_1251_3333',\n",
    "            u'rac_minc_gt_3333'\n",
    "]:\n",
    "    jam_route_d_std[c] = ((jam_route_d_std[c] - jam_route_d_std[c].mean())/jam_route_d_std[c].std())\n",
    "    \n",
    "\n",
    "\n"
   ]
  },
  {
   "cell_type": "markdown",
   "metadata": {},
   "source": [
    "### PCA "
   ]
  },
  {
   "cell_type": "code",
   "execution_count": 21,
   "metadata": {
    "collapsed": false
   },
   "outputs": [],
   "source": [
    "def select_features(data, data_std):\n",
    "    mean_vec = np.mean(data_std, axis=0)\n",
    "    cov_mat = (data_std - mean_vec).T.dot((data_std - mean_vec)) / (data_std.shape[0]-1)\n",
    "    #print('Covariance matrix \\n%s' %cov_mat)\n",
    "\n",
    "    eig_vals, eig_vecs = np.linalg.eig(cov_mat)\n",
    "    cor_mat1 = np.corrcoef(data_std.T)\n",
    "\n",
    "    eig_vals, eig_vecs = np.linalg.eig(cor_mat1)\n",
    "\n",
    "    #print('Eigenvectors \\n%s' %eig_vecs)\n",
    "    #print('\\nEigenvalues \\n%s' %eig_vals)\n",
    "\n",
    "    cor_mat2 = np.corrcoef(data.T)\n",
    "\n",
    "    eig_vals, eig_vecs = np.linalg.eig(cor_mat2)\n",
    "    u,s,v = np.linalg.svd(data_std.T)\n",
    "\n",
    "    # Make a list of (eigenvalue, eigenvector) tuples\n",
    "    eig_pairs = [(np.abs(eig_vals[i]), eig_vecs[:,i]) for i in range(len(eig_vals))]\n",
    "\n",
    "    eig_pairs.sort()\n",
    "    eig_pairs.reverse()\n",
    "\n",
    "    #print('Eigenvalues in descending order:')\n",
    "    for i in eig_pairs:\n",
    "        print(i[0], i[1])# max(i[1]), np.mean(i[1]), np.std(i[1]), min(i[1]) )"
   ]
  },
  {
   "cell_type": "code",
   "execution_count": 82,
   "metadata": {
    "collapsed": false
   },
   "outputs": [
    {
     "name": "stdout",
     "output_type": "stream",
     "text": [
      "(11.042943954514982, array([-0.21761255, -0.19149284,  0.2776263 ,  0.18381564, -0.0825418 ,\n",
      "       -0.05768751, -0.04052722, -0.06908741, -0.0320544 , -0.09340117,\n",
      "       -0.11368963,  0.14607187, -0.07149389, -0.06626588,  0.24622165,\n",
      "        0.23803305,  0.24653277,  0.2436536 ,  0.21965813,  0.23172977,\n",
      "        0.24669554,  0.25426432,  0.24211024,  0.26203008,  0.17395833,\n",
      "        0.14299309,  0.12312943,  0.27749562]))\n",
      "(5.9575908460980669, array([ 0.19840314,  0.20636844,  0.08985057, -0.26948982,  0.0347672 ,\n",
      "        0.05260705,  0.07245765, -0.13427983, -0.16204226,  0.03908601,\n",
      "        0.02421801,  0.18645085, -0.00226932,  0.02937325,  0.22019748,\n",
      "        0.22124819,  0.21834548,  0.21668457,  0.23259274,  0.21641471,\n",
      "        0.21289003, -0.20632823, -0.18288921, -0.1778739 , -0.26031414,\n",
      "       -0.33648454, -0.34457646, -0.01976029]))\n",
      "(3.1752091136746068, array([ 0.04364702,  0.10526732, -0.08675055, -0.03822992, -0.43546997,\n",
      "        0.13183693,  0.21325734, -0.2747902 , -0.07649937, -0.32190699,\n",
      "       -0.34151141,  0.2462423 , -0.37820044, -0.39667736, -0.08956044,\n",
      "       -0.08262904, -0.09236295, -0.08397316, -0.04664   , -0.09054607,\n",
      "       -0.09284297,  0.00217126, -0.05075311,  0.00198553,  0.06405394,\n",
      "       -0.03552834, -0.05812036,  0.04626696]))\n",
      "(2.415857988881402, array([ -2.97760081e-03,   7.21552295e-02,   8.92690747e-03,\n",
      "         5.66061797e-02,  -1.55748744e-01,   4.99716073e-01,\n",
      "         4.98399524e-01,  -1.08096538e-02,   1.30363380e-01,\n",
      "         3.83849220e-01,   3.92352252e-01,  -2.39918715e-01,\n",
      "        -1.22650454e-01,  -1.51602861e-01,   2.83354957e-02,\n",
      "         4.74652685e-02,   1.90429290e-02,   3.82324897e-02,\n",
      "         1.57785035e-01,   5.86968392e-02,   4.90457785e-04,\n",
      "         3.90794779e-02,   2.20006798e-02,   2.80651076e-02,\n",
      "         8.08096151e-02,   8.82690968e-02,   6.89719837e-02,\n",
      "        -6.77061453e-03]))\n",
      "(1.5882337911516173, array([ 0.12941528,  0.15374036,  0.0451976 , -0.03175729,  0.0563214 ,\n",
      "       -0.27114006, -0.20020247,  0.44991442,  0.11676651,  0.03262606,\n",
      "        0.09006004, -0.13017189, -0.47589057, -0.4645503 ,  0.06443997,\n",
      "        0.07228567,  0.06986883,  0.03782654,  0.02682869,  0.06217053,\n",
      "        0.06858681, -0.05251578,  0.09553767, -0.04800427, -0.22443814,\n",
      "        0.10401607,  0.13785129, -0.18966834]))\n",
      "(0.99497860286634865, array([-0.0867907 , -0.08515456,  0.10272614, -0.16867777,  0.17301917,\n",
      "        0.12519925,  0.09955693,  0.1844827 , -0.83980032,  0.06019507,\n",
      "        0.09298209,  0.02584531, -0.16674359,  0.01064203, -0.05167003,\n",
      "       -0.03105059, -0.04874452, -0.07808941, -0.12819235, -0.13301601,\n",
      "       -0.0169103 ,  0.06902096,  0.19347941,  0.06096085, -0.07209191,\n",
      "       -0.03742929,  0.06478215,  0.08548223]))\n",
      "(0.71424318887614457, array([ 0.44292843,  0.38781587, -0.0323499 ,  0.25328743,  0.35079318,\n",
      "        0.24524443,  0.18523892,  0.25527383, -0.05468701, -0.38932729,\n",
      "       -0.19075508, -0.00108915,  0.07700076,  0.12412926,  0.02834956,\n",
      "        0.02548507,  0.02456044,  0.04172551,  0.09796105,  0.04536302,\n",
      "        0.01279929,  0.06665742, -0.01956727,  0.04962478,  0.19944409,\n",
      "        0.11777909,  0.12903514, -0.0060844 ]))\n",
      "(0.53721869341716966, array([ 0.21825719,  0.47368041, -0.03762394,  0.20000713,  0.01323758,\n",
      "       -0.17828156, -0.25635523, -0.32695952, -0.1113257 ,  0.38148966,\n",
      "        0.27418567,  0.39681646,  0.03178982, -0.08804224, -0.04723433,\n",
      "       -0.05155901, -0.04898158, -0.03599   , -0.01569782, -0.06542484,\n",
      "       -0.04544244,  0.11247067,  0.08305921,  0.1164536 ,  0.10345078,\n",
      "        0.06266072,  0.09934016,  0.09939183]))\n",
      "(0.36027354190756899, array([ 0.00631151, -0.00319374, -0.10477333,  0.19152685, -0.44006625,\n",
      "       -0.12220495, -0.0755237 ,  0.49398635, -0.20025261,  0.13476671,\n",
      "        0.02486149,  0.04339305,  0.0428452 ,  0.07552841, -0.02560372,\n",
      "       -0.17616277, -0.03808147,  0.15487501,  0.10022352,  0.2273301 ,\n",
      "       -0.11192279,  0.00338539, -0.38657145,  0.0629623 ,  0.28182058,\n",
      "       -0.21210878, -0.06247958,  0.11207656]))\n",
      "(0.31067500166966061, array([ 0.05510479,  0.00173305,  0.16240448,  0.01526078, -0.35230295,\n",
      "        0.47722271, -0.30365963,  0.23996812,  0.01485181,  0.09334982,\n",
      "       -0.17879282,  0.25613828,  0.36942921, -0.05823719,  0.01725508,\n",
      "        0.06998665,  0.02064004, -0.04320844, -0.02784725, -0.10867706,\n",
      "        0.0575587 , -0.04835137,  0.16720376, -0.04591245, -0.29428822,\n",
      "        0.06211566,  0.19263327, -0.19738086]))\n",
      "(0.23186866249790852, array([  2.09581965e-01,   1.62183760e-02,  -3.29947531e-01,\n",
      "         9.06411566e-02,  -2.00808169e-01,   3.48309305e-02,\n",
      "        -2.94780055e-01,  -3.03721985e-01,  -2.69157483e-01,\n",
      "        -3.45248368e-02,  -1.10074026e-01,  -6.00733054e-01,\n",
      "         6.60107527e-02,  -1.54722160e-02,   1.32908163e-02,\n",
      "         4.27184159e-02,   6.73787018e-03,   5.61936017e-03,\n",
      "         2.05192198e-01,   2.21704027e-01,  -7.16256293e-02,\n",
      "         4.19337256e-02,   1.38139826e-01,   7.67104668e-02,\n",
      "        -1.85772178e-01,  -1.86812904e-04,   8.14657301e-02,\n",
      "         2.19530962e-02]))\n",
      "(0.17364076525697469, array([ 0.10517146,  0.04595588, -0.24273226, -0.21308407,  0.04060057,\n",
      "        0.08399454, -0.08390987,  0.24965429,  0.19122722,  0.06036641,\n",
      "       -0.04238167, -0.07230309,  0.10982058, -0.17147122,  0.00158823,\n",
      "        0.14068363,  0.01709449, -0.1766708 ,  0.02330094, -0.31097489,\n",
      "        0.08350184,  0.19106827,  0.11443651,  0.27522109, -0.02296579,\n",
      "       -0.17888823, -0.3399061 ,  0.5355359 ]))\n",
      "(0.11657671308895723, array([ 0.0833347 , -0.05965849, -0.1119309 , -0.60429245,  0.06587531,\n",
      "        0.03234794, -0.15173302, -0.00874176, -0.05422562,  0.15775275,\n",
      "       -0.1504627 ,  0.01975435,  0.11278734, -0.15929876,  0.0190567 ,\n",
      "        0.09480726,  0.00807892, -0.01840787,  0.17482195,  0.07979665,\n",
      "       -0.02059288,  0.01022737, -0.04489888, -0.15630505,  0.56665078,\n",
      "        0.26307704,  0.11106492, -0.13438949]))\n",
      "(0.096051109239069662, array([ 0.01281218,  0.10901911, -0.05467925,  0.16257681, -0.26812941,\n",
      "       -0.24812398,  0.16350257,  0.01459447, -0.10745971, -0.02413555,\n",
      "        0.04092123, -0.16182906,  0.11445323,  0.04100833,  0.13012628,\n",
      "        0.47711014,  0.15385695, -0.27288221, -0.24367376, -0.26154169,\n",
      "        0.28700465, -0.07136393,  0.05771889, -0.22689288,  0.25970494,\n",
      "       -0.17451255,  0.13516316, -0.12007864]))\n",
      "(0.083630856423244609, array([-0.15145472,  0.26525883, -0.12610119, -0.22596306, -0.19572234,\n",
      "       -0.3189195 ,  0.34948979,  0.15600523,  0.05481936,  0.03840465,\n",
      "       -0.12890032,  0.12911854,  0.04701335,  0.32629185, -0.07361619,\n",
      "        0.04116591, -0.08606996, -0.13950946,  0.37544149,  0.0877823 ,\n",
      "       -0.18036961,  0.05046878,  0.34581383,  0.01973809, -0.21807487,\n",
      "        0.08785458,  0.11669889, -0.01412227]))\n",
      "(0.067790653494770384, array([ 0.18349396,  0.17280783,  0.19050249, -0.40624057, -0.20651587,\n",
      "       -0.14068024,  0.15419512, -0.05358096,  0.04028486, -0.05281187,\n",
      "        0.02299333, -0.17165325,  0.12605884,  0.0849457 ,  0.0698865 ,\n",
      "       -0.18952968,  0.10394957,  0.20407003, -0.42017813,  0.01085381,\n",
      "        0.15481428,  0.14199658, -0.21042974,  0.36135016, -0.13715578,\n",
      "        0.09229942,  0.26461729,  0.04779597]))\n",
      "(0.041020251815284237, array([ 0.61707431, -0.41137741,  0.20759711, -0.05725218, -0.16901434,\n",
      "       -0.02896174, -0.05587916, -0.02806157,  0.1036041 ,  0.03364099,\n",
      "        0.10274575,  0.06965367, -0.33169015,  0.36562294, -0.03771672,\n",
      "       -0.00571872, -0.03835401, -0.06423916,  0.15017888, -0.17891773,\n",
      "       -0.02534604,  0.02682633,  0.12955236, -0.02886352,  0.06451809,\n",
      "       -0.0919127 ,  0.06871667,  0.03737563]))\n",
      "(0.02843367728759387, array([ 0.15433583, -0.2322041 ,  0.14755185,  0.04876133,  0.16525994,\n",
      "       -0.2148624 ,  0.24720534, -0.05442752, -0.01935898,  0.02133223,\n",
      "       -0.04236124,  0.01187387,  0.38131873, -0.45738009, -0.06069439,\n",
      "       -0.09862771, -0.06888541,  0.00248652,  0.26627961, -0.07142243,\n",
      "       -0.10329561,  0.01110357, -0.02816117,  0.04727931, -0.05354338,\n",
      "       -0.41872313,  0.34168995, -0.01609043]))\n",
      "(0.020291853850123536, array([ 0.32504537, -0.25270419, -0.10627515,  0.09067686, -0.0889735 ,\n",
      "       -0.18067501,  0.24742817,  0.06834685, -0.07662835, -0.01350965,\n",
      "        0.10742083,  0.1214798 ,  0.28791447, -0.20815527,  0.00248028,\n",
      "       -0.02522402, -0.00185859,  0.04176183, -0.2893478 ,  0.30131277,\n",
      "       -0.03671956, -0.02731188,  0.27579554, -0.13455934, -0.05574427,\n",
      "        0.35861206, -0.37444719,  0.02928282]))\n",
      "(0.01480339253972471, array([ 0.06647709, -0.2026374 , -0.27627095,  0.17222846,  0.07029213,\n",
      "       -0.11237183,  0.16250411, -0.01658196, -0.12447205,  0.29637209,\n",
      "       -0.28642368,  0.08794202, -0.03919039,  0.02309307,  0.0877994 ,\n",
      "        0.03404482,  0.11746774,  0.04265258,  0.1840221 , -0.35457178,\n",
      "        0.19171034, -0.01802689, -0.37596369,  0.18957127, -0.2108309 ,\n",
      "        0.37988223, -0.02910363, -0.14514291]))\n",
      "(0.011423048775055379, array([-0.03712631, -0.19683603, -0.51781862, -0.11318438, -0.01063085,\n",
      "        0.08135912, -0.04638738,  0.01299529,  0.00773691, -0.38942587,\n",
      "        0.50726568,  0.30678369,  0.00973275,  0.00653649,  0.04693287,\n",
      "        0.1614467 ,  0.03229214, -0.016453  ,  0.03757831,  0.07227299,\n",
      "        0.03999268,  0.03927447, -0.12304381,  0.14704464, -0.10198352,\n",
      "       -0.02098531,  0.2720544 , -0.07495147]))\n",
      "(0.010312361507176569, array([ 0.06951295, -0.11682336, -0.17101747,  0.02550141,  0.18552043,\n",
      "        0.09701521,  0.06996153,  0.00368588,  0.10001601,  0.34105985,\n",
      "       -0.33893376,  0.13822643, -0.17628969,  0.07298467, -0.00773432,\n",
      "        0.24670837, -0.01029952, -0.23739214, -0.35938448,  0.47433444,\n",
      "       -0.08786292,  0.04608088, -0.05329292,  0.11882051, -0.06668011,\n",
      "       -0.23402316,  0.21706319,  0.03879288]))\n",
      "(0.0067789564619935554, array([-0.02274692, -0.01487737, -0.41060695,  0.00667085,  0.0392959 ,\n",
      "        0.0423599 ,  0.05109481,  0.02181413,  0.06726583,  0.1301502 ,\n",
      "       -0.1391103 ,  0.05661414, -0.07657669,  0.05990299,  0.1176164 ,\n",
      "       -0.40052061,  0.16769107,  0.44220864, -0.13065009, -0.13738982,\n",
      "        0.21948721, -0.01880731,  0.38769118, -0.21616681,  0.09709363,\n",
      "       -0.24934057,  0.13952129, -0.01520228]))\n",
      "(0.00015297470455404608, array([ 0.00911732,  0.00714949, -0.02949984, -0.00546606, -0.00124254,\n",
      "       -0.02300292,  0.01264345,  0.00337366,  0.00849312,  0.03197304,\n",
      "       -0.04653896, -0.02002252, -0.00684402,  0.01247776, -0.13178176,\n",
      "        0.49259828, -0.55744389,  0.61085789, -0.108055  , -0.14730625,\n",
      "       -0.12707299,  0.00536801,  0.01682381,  0.00809632, -0.01765416,\n",
      "       -0.00804398,  0.01413045,  0.00366665]))\n",
      "(6.7118259188246491e-16, array([  1.63764367e-14,   5.84207682e-15,  -8.88401250e-14,\n",
      "        -7.37922894e-15,   2.35934374e-16,  -4.20448530e-14,\n",
      "         2.89733070e-14,   8.04827119e-15,   1.74105530e-14,\n",
      "         6.11805921e-14,  -8.64025204e-14,  -2.73586080e-14,\n",
      "        -1.20531970e-14,   2.21275996e-14,   2.46108311e-01,\n",
      "        -1.51916405e-01,  -5.04405397e-01,  -1.62471556e-01,\n",
      "         5.91115603e-02,   1.11198096e-01,   4.08401920e-01,\n",
      "         4.28108835e-01,   5.29166502e-02,   1.34332816e-01,\n",
      "         4.52136046e-02,  -1.46687549e-01,  -2.20596460e-01,\n",
      "        -4.20157133e-01]))\n",
      "(5.7560181457625093e-16, array([ -1.20012852e-14,  -1.02072050e-14,   4.48335121e-14,\n",
      "         8.28254637e-15,   1.84367615e-15,   2.76990002e-14,\n",
      "        -1.72657864e-14,  -4.47314907e-15,  -1.23962271e-14,\n",
      "        -4.30495501e-14,   6.16984276e-14,   2.53206009e-14,\n",
      "         1.04425916e-14,  -1.80252611e-14,   5.35311070e-01,\n",
      "         5.66248508e-02,   1.88010507e-01,   6.05591450e-02,\n",
      "        -8.74534425e-02,  -1.64513611e-01,  -6.04216055e-01,\n",
      "         4.61619278e-01,  -7.30420250e-02,  -1.85422562e-01,\n",
      "        -6.24093404e-02,  -3.58383375e-02,  -5.38955789e-02,\n",
      "        -1.02651747e-01]))\n",
      "(4.2971459060684086e-16, array([ -2.50977063e-14,  -2.45254965e-14,   2.73790660e-14,\n",
      "         1.83508298e-14,   5.44661322e-15,   5.52901937e-14,\n",
      "        -2.41655398e-14,  -6.26374126e-15,  -2.12939939e-14,\n",
      "        -6.78600902e-14,   1.04096427e-13,   5.75881611e-14,\n",
      "         1.20459863e-14,  -2.60365005e-14,   5.87606353e-02,\n",
      "        -7.92368667e-02,  -2.63088789e-01,  -8.47422435e-02,\n",
      "         3.80935104e-02,   7.16598545e-02,   2.63188160e-01,\n",
      "         3.47302414e-01,  -2.39813765e-01,  -6.08784913e-01,\n",
      "        -2.04904217e-01,   1.46857207e-01,   2.20851600e-01,\n",
      "         4.20643084e-01]))\n",
      "(1.054598650208537e-16, array([  1.74579813e-14,   2.18165049e-14,  -2.06892503e-14,\n",
      "        -9.44691120e-15,  -3.53618389e-16,  -3.89339470e-14,\n",
      "         2.09195056e-14,   5.81124854e-15,   1.75002965e-14,\n",
      "         6.48474802e-14,  -9.34739888e-14,  -4.42106378e-14,\n",
      "        -1.15491067e-14,   1.96069700e-14,  -7.03356087e-01,\n",
      "         9.29322301e-02,   3.08561266e-01,   9.93891607e-02,\n",
      "         2.15142364e-02,   4.04716456e-02,   1.48641914e-01,\n",
      "         5.30463876e-01,  -4.49611470e-02,  -1.14137184e-01,\n",
      "        -3.84161793e-02,  -7.78298248e-02,  -1.17044588e-01,\n",
      "        -2.22927959e-01]))\n"
     ]
    }
   ],
   "source": [
    "select_features(china_data_o, china_data_o_std)"
   ]
  },
  {
   "cell_type": "code",
   "execution_count": null,
   "metadata": {
    "collapsed": true
   },
   "outputs": [],
   "source": []
  },
  {
   "cell_type": "code",
   "execution_count": null,
   "metadata": {
    "collapsed": true
   },
   "outputs": [],
   "source": []
  },
  {
   "cell_type": "markdown",
   "metadata": {},
   "source": [
    "### Features"
   ]
  },
  {
   "cell_type": "code",
   "execution_count": 27,
   "metadata": {
    "collapsed": false
   },
   "outputs": [
    {
     "data": {
      "text/plain": [
       "Index([          u'Both',        u'is_dest',  u'DollarVanLine',\n",
       "              u'is_orig',   u'_100_149_pov',  u'above_150_pov',\n",
       "           u'noncitizen',    u'foreignborn', u'wac_total_jobs',\n",
       "       u'wac_jobs_30_54'],\n",
       "      dtype='object')"
      ]
     },
     "execution_count": 27,
     "metadata": {},
     "output_type": "execute_result"
    }
   ],
   "source": [
    "jam_route_std_o.columns[np.abs([-0.24744552, -0.22750989,  0.26752878,  0.23646118, -0.01404069,\n",
    "       -0.00187555, -0.002666  , -0.08972109, -0.05356957, -0.06964585,\n",
    "       -0.07788279,  0.15675925, -0.05945666, -0.01701496,  0.18997601,\n",
    "        0.19389964,  0.18683487,  0.18248547,  0.19743281,  0.19256351,\n",
    "        0.17890414,  0.28774482,  0.27153521,  0.28622749,  0.25451958,\n",
    "        0.2163573 ,  0.1689631 ,  0.28377035]) > 0.20]"
   ]
  },
  {
   "cell_type": "code",
   "execution_count": null,
   "metadata": {
    "collapsed": true
   },
   "outputs": [],
   "source": []
  },
  {
   "cell_type": "markdown",
   "metadata": {},
   "source": [
    "# Not Using this :\n"
   ]
  },
  {
   "cell_type": "code",
   "execution_count": null,
   "metadata": {
    "collapsed": true
   },
   "outputs": [],
   "source": [
    "# Not Using this\n",
    "\n",
    "matrix_w = np.hstack((eig_pairs[0][1].reshape(28,1),\n",
    "                      eig_pairs[1][1].reshape(28,1)))\n",
    "\n",
    "#print('Matrix W:\\n', matrix_w)\n",
    "Y = data_std.dot(matrix_w)\n",
    "from sklearn.decomposition import PCA as sklearnPCA\n",
    "sklearn_pca = sklearnPCA(n_components=2)\n",
    "Y_sklearn = sklearn_pca.fit_transform(data_std)\n",
    "from sklearn.decomposition import SparsePCA as sparsePCA\n",
    "sparse_pca = sparsePCA(n_components=4)\n",
    "sparse_pca.fit(data_std)\n",
    "Y_sparse = sparse_pca.transform(data_std)"
   ]
  }
 ],
 "metadata": {
  "kernelspec": {
   "display_name": "Python 2",
   "language": "python",
   "name": "python2"
  },
  "language_info": {
   "codemirror_mode": {
    "name": "ipython",
    "version": 2
   },
   "file_extension": ".py",
   "mimetype": "text/x-python",
   "name": "python",
   "nbconvert_exporter": "python",
   "pygments_lexer": "ipython2",
   "version": "2.7.10"
  }
 },
 "nbformat": 4,
 "nbformat_minor": 0
}
