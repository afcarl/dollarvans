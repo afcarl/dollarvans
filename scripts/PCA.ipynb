{
 "cells": [
  {
   "cell_type": "code",
   "execution_count": 1,
   "metadata": {
    "collapsed": false
   },
   "outputs": [
    {
     "name": "stdout",
     "output_type": "stream",
     "text": [
      "Populating the interactive namespace from numpy and matplotlib\n"
     ]
    }
   ],
   "source": [
    "#Based on this tutorial - http://sebastianraschka.com/Articles/2015_pca_in_3_steps.html\n",
    "\n",
    "import pandas as pd\n",
    "import pylab as pl\n",
    "import numpy as np \n",
    "import geopandas as gp\n",
    "%pylab inline"
   ]
  },
  {
   "cell_type": "markdown",
   "metadata": {},
   "source": [
    "### Data munging for all DV routes"
   ]
  },
  {
   "cell_type": "code",
   "execution_count": 2,
   "metadata": {
    "collapsed": true
   },
   "outputs": [],
   "source": [
    "demographics = pd.read_excel('../data/DemoData.xlsx')\n",
    "demographics['tract'] = demographics.ID.astype(str).str.zfill(9)"
   ]
  },
  {
   "cell_type": "code",
   "execution_count": 3,
   "metadata": {
    "collapsed": false
   },
   "outputs": [],
   "source": [
    "shp = gp.GeoDataFrame.from_file('../data/merged.json')\n",
    "\n",
    "shp = shp.merge(demographics, on='tract')\n",
    "\n",
    "shp.rename(columns={\n",
    "    'Destination?': 'is_dest',\n",
    "    'Origin?': 'is_orig',\n",
    "    'Total Population': 'pop',\n",
    "    '18 to 24 yrs': '_18_to_24',\n",
    "    '65 and Above': 'above_65',\n",
    "    'Median Age': 'age',\n",
    "    'Non-white': 'nonwhite',\n",
    "    'English less than \"very well\"': 'nonenglish',\n",
    "    'Annaul Individual Income below 10000': 'income_below_10000',\n",
    "    'Annaul Individual Income below 15000': 'income_below_15000',\n",
    "    'Median Income': 'income',\n",
    "    'Below 100 percent of the poverty level': 'below_pov',\n",
    "    '100 to 149 percent of the poverty level': '_100_149_pov',\n",
    "    'At or above 150 percent of the poverty level': 'above_150_pov',\n",
    "    'Citizenship status': 'noncitizen',\n",
    "    'Place of Birth': 'foreignborn'\n",
    "}, inplace=True)"
   ]
  },
  {
   "cell_type": "code",
   "execution_count": 4,
   "metadata": {
    "collapsed": true
   },
   "outputs": [],
   "source": [
    "lehd = pd.read_csv('../data/merged.csv', dtype={'tract': str})\n",
    "\n",
    "lehd = lehd.drop([u'Unnamed: 0', u'Both', u'Destination?', u'DollarVanLine', u'Origin?',\n",
    "       u'average_commute_time', u'average_walk_distance', u'geometry',\n",
    "       u'number_of_commuters',  u'w_county_tract', u'h_county_tract'], 1)\n",
    "\n",
    "shp = shp.merge(lehd, on='tract')"
   ]
  },
  {
   "cell_type": "code",
   "execution_count": 5,
   "metadata": {
    "collapsed": true
   },
   "outputs": [],
   "source": [
    "shp.dropna(how=\"all\", inplace=True)"
   ]
  },
  {
   "cell_type": "code",
   "execution_count": 6,
   "metadata": {
    "collapsed": false
   },
   "outputs": [
    {
     "name": "stderr",
     "output_type": "stream",
     "text": [
      "/Library/Python/2.7/site-packages/ipykernel/__main__.py:4: SettingWithCopyWarning: \n",
      "A value is trying to be set on a copy of a slice from a DataFrame\n",
      "\n",
      "See the the caveats in the documentation: http://pandas.pydata.org/pandas-docs/stable/indexing.html#indexing-view-versus-copy\n",
      "/Library/Python/2.7/site-packages/ipykernel/__main__.py:5: SettingWithCopyWarning: \n",
      "A value is trying to be set on a copy of a slice from a DataFrame\n",
      "\n",
      "See the the caveats in the documentation: http://pandas.pydata.org/pandas-docs/stable/indexing.html#indexing-view-versus-copy\n",
      "/Library/Python/2.7/site-packages/ipykernel/__main__.py:6: SettingWithCopyWarning: \n",
      "A value is trying to be set on a copy of a slice from a DataFrame\n",
      "\n",
      "See the the caveats in the documentation: http://pandas.pydata.org/pandas-docs/stable/indexing.html#indexing-view-versus-copy\n",
      "/Library/Python/2.7/site-packages/ipykernel/__main__.py:7: SettingWithCopyWarning: \n",
      "A value is trying to be set on a copy of a slice from a DataFrame\n",
      "\n",
      "See the the caveats in the documentation: http://pandas.pydata.org/pandas-docs/stable/indexing.html#indexing-view-versus-copy\n",
      "/Library/Python/2.7/site-packages/ipykernel/__main__.py:8: SettingWithCopyWarning: \n",
      "A value is trying to be set on a copy of a slice from a DataFrame\n",
      "\n",
      "See the the caveats in the documentation: http://pandas.pydata.org/pandas-docs/stable/indexing.html#indexing-view-versus-copy\n"
     ]
    }
   ],
   "source": [
    "routes = pd.read_csv('../data/csv/vanroutes3-11_430pm.csv', dtype={'CT2010': str, 'BoroCode': str})\n",
    "\n",
    "routes['county_code'] = \"\"\n",
    "routes['county_code'][routes['BoroCode'] == '1'] = '061' # Manhattan\n",
    "routes['county_code'][routes['BoroCode'] == '2'] = '005' # Bronx\n",
    "routes['county_code'][routes['BoroCode'] == '3'] = '047' # Brooklyn\n",
    "routes['county_code'][routes['BoroCode'] == '4'] = '081' # Queens\n",
    "routes['county_code'][routes['BoroCode'] == '5'] = '085' # Staten Island\n",
    "\n",
    "routes['tract'] = routes['county_code'] + routes['CT2010']\n",
    "\n",
    "routes.drop(['FID',\n",
    " 'FID_1',\n",
    " 'CTLabel',\n",
    " 'BoroCode',\n",
    " 'BoroName',\n",
    " 'CT2010',\n",
    " 'BoroCT2010',\n",
    " 'CDEligibil',\n",
    " 'NTACode',\n",
    " 'NTAName',\n",
    " 'PUMA',\n",
    " 'Shape_Leng',\n",
    " 'Shape_Area',\n",
    " 'Count_'\n",
    "], 1, inplace = True)\n",
    "\n"
   ]
  },
  {
   "cell_type": "code",
   "execution_count": 7,
   "metadata": {
    "collapsed": true
   },
   "outputs": [],
   "source": [
    "shp = shp.merge(routes, on = 'tract')"
   ]
  },
  {
   "cell_type": "code",
   "execution_count": 8,
   "metadata": {
    "collapsed": false
   },
   "outputs": [
    {
     "data": {
      "text/plain": [
       "Index([                 u'Both',               u'is_dest',\n",
       "               u'DollarVanLine',               u'is_orig',\n",
       "        u'average_commute_time', u'average_walk_distance',\n",
       "                    u'geometry',   u'number_of_commuters',\n",
       "                       u'tract',                    u'ID',\n",
       "                   u'Geography',                   u'pop',\n",
       "                   u'_18_to_24',              u'above_65',\n",
       "                         u'age',              u'nonwhite',\n",
       "                  u'nonenglish',    u'income_below_10000',\n",
       "          u'income_below_15000',                u'income',\n",
       "                   u'below_pov',          u'_100_149_pov',\n",
       "               u'above_150_pov',            u'noncitizen',\n",
       "                 u'foreignborn',        u'wac_total_jobs',\n",
       "              u'wac_jobs_lt_29',        u'wac_jobs_30_54',\n",
       "              u'wac_jobs_gt_55',      u'wac_minc_lt_1250',\n",
       "          u'wac_minc_1251_3333',      u'wac_minc_gt_3333',\n",
       "              u'rac_total_jobs',        u'rac_jobs_lt_29',\n",
       "              u'rac_jobs_30_54',        u'rac_jobs_gt_55',\n",
       "            u'rac_minc_lt_1250',    u'rac_minc_1251_3333',\n",
       "            u'rac_minc_gt_3333',                u'Sum_Id',\n",
       "              u'IsDestination?',          u'FlatbushDest',\n",
       "                   u'ChinaDest',                u'Jamica',\n",
       "                 u'OriginChina',              u'DONOTUSE',\n",
       "                  u'OriginFlat',              u'DoNotUse',\n",
       "                u'OriginJamica',           u'county_code'],\n",
       "      dtype='object')"
      ]
     },
     "execution_count": 8,
     "metadata": {},
     "output_type": "execute_result"
    }
   ],
   "source": [
    "shp.columns"
   ]
  },
  {
   "cell_type": "markdown",
   "metadata": {},
   "source": [
    "### Individual routes\n",
    "#### Chinatown"
   ]
  },
  {
   "cell_type": "code",
   "execution_count": 9,
   "metadata": {
    "collapsed": false
   },
   "outputs": [
    {
     "name": "stderr",
     "output_type": "stream",
     "text": [
      "/Library/Python/2.7/site-packages/pandas-0.16.2-py2.7-macosx-10.10-intel.egg/pandas/core/frame.py:1825: UserWarning: Boolean Series key will be reindexed to match DataFrame index.\n",
      "  \"DataFrame index.\", UserWarning)\n"
     ]
    }
   ],
   "source": [
    "#All\n",
    "\n",
    "all_data = shp.ix[:,4:]\n",
    "labels = shp['DollarVanLine']\n",
    "all_data = shp[routes['OriginChina'] == 1]\n",
    "\n",
    "all_data = all_data[[\n",
    "        u'average_commute_time', u'average_walk_distance',\n",
    "        u'number_of_commuters',u'pop',\n",
    "                       u'_18_to_24',                    u'above_65',\n",
    "                         u'age',             u'nonwhite',\n",
    "                  u'nonenglish',    u'income_below_10000',\n",
    "          u'income_below_15000',                u'income',\n",
    "                  u'noncitizen',           u'foreignborn',\n",
    "              u'wac_total_jobs',\n",
    "              u'wac_jobs_lt_29',        u'wac_jobs_30_54',\n",
    "              u'wac_jobs_gt_55',      u'wac_minc_lt_1250',\n",
    "          u'wac_minc_1251_3333',      u'wac_minc_gt_3333',\n",
    "              u'rac_total_jobs',        u'rac_jobs_lt_29',\n",
    "              u'rac_jobs_30_54',        u'rac_jobs_gt_55',\n",
    "            u'rac_minc_lt_1250',    u'rac_minc_1251_3333',\n",
    "            u'rac_minc_gt_3333'\n",
    "]]\n",
    "\n",
    "#Dropping poverty because nans while computing covariance matrix\n",
    "all_data_std = all_data\n",
    "\n",
    "# Standardize Value Range\n",
    "\n",
    "for c in [\n",
    "        u'average_commute_time', u'average_walk_distance',\n",
    "        u'number_of_commuters',u'pop',\n",
    "                       u'_18_to_24',                    u'above_65',\n",
    "                         u'age',             u'nonwhite',\n",
    "                  u'nonenglish',    u'income_below_10000',\n",
    "          u'income_below_15000',                u'income',\n",
    "                 u'noncitizen',\n",
    "                 u'foreignborn',        u'wac_total_jobs',\n",
    "              u'wac_jobs_lt_29',        u'wac_jobs_30_54',\n",
    "              u'wac_jobs_gt_55',      u'wac_minc_lt_1250',\n",
    "          u'wac_minc_1251_3333',      u'wac_minc_gt_3333',\n",
    "              u'rac_total_jobs',        u'rac_jobs_lt_29',\n",
    "              u'rac_jobs_30_54',        u'rac_jobs_gt_55',\n",
    "            u'rac_minc_lt_1250',    u'rac_minc_1251_3333',\n",
    "            u'rac_minc_gt_3333'\n",
    "]:\n",
    "    all_data_std[c] = ((all_data_std[c] - all_data_std[c].mean())/all_data_std[c].std())\n",
    "    \n"
   ]
  },
  {
   "cell_type": "code",
   "execution_count": 10,
   "metadata": {
    "collapsed": false
   },
   "outputs": [],
   "source": [
    "#Origins\n",
    "\n",
    "china_data_o = shp.ix[:,4:]\n",
    "labels = shp['DollarVanLine']\n",
    "china_data_o = shp[routes['OriginChina'] == 1]\n",
    "\n",
    "china_data_o = china_data_o[[\n",
    "        u'average_commute_time', u'average_walk_distance',\n",
    "        u'number_of_commuters',u'pop',\n",
    "                       u'_18_to_24',                    u'above_65',\n",
    "                         u'age',             u'nonwhite',\n",
    "                  u'nonenglish',    u'income_below_10000',\n",
    "          u'income_below_15000',                u'income',\n",
    "                  u'noncitizen',           u'foreignborn',\n",
    "              u'wac_total_jobs',\n",
    "              u'wac_jobs_lt_29',        u'wac_jobs_30_54',\n",
    "              u'wac_jobs_gt_55',      u'wac_minc_lt_1250',\n",
    "          u'wac_minc_1251_3333',      u'wac_minc_gt_3333',\n",
    "              u'rac_total_jobs',        u'rac_jobs_lt_29',\n",
    "              u'rac_jobs_30_54',        u'rac_jobs_gt_55',\n",
    "            u'rac_minc_lt_1250',    u'rac_minc_1251_3333',\n",
    "            u'rac_minc_gt_3333'\n",
    "]]\n",
    "\n",
    "#Dropping poverty because nans while computing covariance matrix\n",
    "china_data_o_std = china_data_o\n",
    "\n",
    "# Standardize Value Range\n",
    "\n",
    "for c in [\n",
    "        u'average_commute_time', u'average_walk_distance',\n",
    "        u'number_of_commuters',u'pop',\n",
    "                       u'_18_to_24',                    u'above_65',\n",
    "                         u'age',             u'nonwhite',\n",
    "                  u'nonenglish',    u'income_below_10000',\n",
    "          u'income_below_15000',                u'income',\n",
    "                 u'noncitizen',\n",
    "                 u'foreignborn',        u'wac_total_jobs',\n",
    "              u'wac_jobs_lt_29',        u'wac_jobs_30_54',\n",
    "              u'wac_jobs_gt_55',      u'wac_minc_lt_1250',\n",
    "          u'wac_minc_1251_3333',      u'wac_minc_gt_3333',\n",
    "              u'rac_total_jobs',        u'rac_jobs_lt_29',\n",
    "              u'rac_jobs_30_54',        u'rac_jobs_gt_55',\n",
    "            u'rac_minc_lt_1250',    u'rac_minc_1251_3333',\n",
    "            u'rac_minc_gt_3333'\n",
    "]:\n",
    "    china_data_o_std[c] = ((china_data_o_std[c] - china_data_o_std[c].mean())/china_data_o_std[c].std())\n",
    "    \n"
   ]
  },
  {
   "cell_type": "code",
   "execution_count": 11,
   "metadata": {
    "collapsed": false
   },
   "outputs": [],
   "source": [
    "#Destination\n",
    "\n",
    "china_data_d = shp.ix[:,4:]\n",
    "labels = shp['DollarVanLine']\n",
    "china_data_d = shp[routes['ChinaDest'] == 1]\n",
    "\n",
    "china_data_d = china_data_d[[\n",
    "        u'average_commute_time', u'average_walk_distance',\n",
    "        u'number_of_commuters',u'pop',\n",
    "                       u'_18_to_24',                    u'above_65',\n",
    "                         u'age',             u'nonwhite',\n",
    "                  u'nonenglish',    u'income_below_10000',\n",
    "          u'income_below_15000',                u'income',\n",
    "                  u'noncitizen',           u'foreignborn',\n",
    "              u'wac_total_jobs',\n",
    "              u'wac_jobs_lt_29',        u'wac_jobs_30_54',\n",
    "              u'wac_jobs_gt_55',      u'wac_minc_lt_1250',\n",
    "          u'wac_minc_1251_3333',      u'wac_minc_gt_3333',\n",
    "              u'rac_total_jobs',        u'rac_jobs_lt_29',\n",
    "              u'rac_jobs_30_54',        u'rac_jobs_gt_55',\n",
    "            u'rac_minc_lt_1250',    u'rac_minc_1251_3333',\n",
    "            u'rac_minc_gt_3333'\n",
    "]]\n",
    "\n",
    "#Dropping poverty because nans while computing covariance matrix\n",
    "china_data_d_std = china_data_d\n",
    "\n",
    "# Standardize Value Range\n",
    "\n",
    "for c in [\n",
    "        u'average_commute_time', u'average_walk_distance',\n",
    "        u'number_of_commuters',u'pop',\n",
    "                       u'_18_to_24',                    u'above_65',\n",
    "                         u'age',             u'nonwhite',\n",
    "                  u'nonenglish',    u'income_below_10000',\n",
    "          u'income_below_15000',                u'income',\n",
    "                 u'noncitizen',\n",
    "                 u'foreignborn',        u'wac_total_jobs',\n",
    "              u'wac_jobs_lt_29',        u'wac_jobs_30_54',\n",
    "              u'wac_jobs_gt_55',      u'wac_minc_lt_1250',\n",
    "          u'wac_minc_1251_3333',      u'wac_minc_gt_3333',\n",
    "              u'rac_total_jobs',        u'rac_jobs_lt_29',\n",
    "              u'rac_jobs_30_54',        u'rac_jobs_gt_55',\n",
    "            u'rac_minc_lt_1250',    u'rac_minc_1251_3333',\n",
    "            u'rac_minc_gt_3333'\n",
    "]:\n",
    "    china_data_d_std[c] = ((china_data_d_std[c] - china_data_d_std[c].mean())/china_data_d_std[c].std())\n",
    "    \n"
   ]
  },
  {
   "cell_type": "markdown",
   "metadata": {},
   "source": [
    "#### Flatbush"
   ]
  },
  {
   "cell_type": "code",
   "execution_count": 12,
   "metadata": {
    "collapsed": false
   },
   "outputs": [],
   "source": [
    "#Origins\n",
    "\n",
    "flat_route_o = shp.ix[:,4:]\n",
    "labels = shp['DollarVanLine']\n",
    "flat_route_o = shp[routes['OriginFlat'] == 1]\n",
    "\n",
    "flat_route_o = flat_route_o[[\n",
    "        u'average_commute_time', u'average_walk_distance',\n",
    "        u'number_of_commuters',u'pop',\n",
    "                       u'_18_to_24',                    u'above_65',\n",
    "                         u'age',             u'nonwhite',\n",
    "                  u'nonenglish',    u'income_below_10000',\n",
    "          u'income_below_15000',                u'income',\n",
    "                  u'noncitizen',           u'foreignborn',\n",
    "              u'wac_total_jobs',\n",
    "              u'wac_jobs_lt_29',        u'wac_jobs_30_54',\n",
    "              u'wac_jobs_gt_55',      u'wac_minc_lt_1250',\n",
    "          u'wac_minc_1251_3333',      u'wac_minc_gt_3333',\n",
    "              u'rac_total_jobs',        u'rac_jobs_lt_29',\n",
    "              u'rac_jobs_30_54',        u'rac_jobs_gt_55',\n",
    "            u'rac_minc_lt_1250',    u'rac_minc_1251_3333',\n",
    "            u'rac_minc_gt_3333'\n",
    "]]\n",
    "\n",
    "#Dropping poverty because nans while computing covariance matrix\n",
    "flat_route_o_std = flat_route_o\n",
    "\n",
    "# Standardize Value Range\n",
    "\n",
    "for c in [\n",
    "        u'average_commute_time', u'average_walk_distance',\n",
    "        u'number_of_commuters',u'pop',\n",
    "                       u'_18_to_24',                    u'above_65',\n",
    "                         u'age',             u'nonwhite',\n",
    "                  u'nonenglish',    u'income_below_10000',\n",
    "          u'income_below_15000',                u'income',\n",
    "                 u'noncitizen',\n",
    "                 u'foreignborn',        u'wac_total_jobs',\n",
    "              u'wac_jobs_lt_29',        u'wac_jobs_30_54',\n",
    "              u'wac_jobs_gt_55',      u'wac_minc_lt_1250',\n",
    "          u'wac_minc_1251_3333',      u'wac_minc_gt_3333',\n",
    "              u'rac_total_jobs',        u'rac_jobs_lt_29',\n",
    "              u'rac_jobs_30_54',        u'rac_jobs_gt_55',\n",
    "            u'rac_minc_lt_1250',    u'rac_minc_1251_3333',\n",
    "            u'rac_minc_gt_3333'\n",
    "]:\n",
    "    flat_route_o_std[c] = ((flat_route_o_std[c] - flat_route_o_std[c].mean())/flat_route_o_std[c].std())\n",
    "    \n",
    "\n"
   ]
  },
  {
   "cell_type": "code",
   "execution_count": 13,
   "metadata": {
    "collapsed": false
   },
   "outputs": [],
   "source": [
    "#Destination\n",
    "\n",
    "flat_route_d = shp.ix[:,4:]\n",
    "labels = shp['DollarVanLine']\n",
    "flat_route_d = shp[routes['FlatbushDest'] == 1]\n",
    "\n",
    "flat_route_d = flat_route_d[[\n",
    "        u'average_commute_time', u'average_walk_distance',\n",
    "        u'number_of_commuters',u'pop',\n",
    "                       u'_18_to_24',                    u'above_65',\n",
    "                         u'age',             u'nonwhite',\n",
    "                  u'nonenglish',    u'income_below_10000',\n",
    "          u'income_below_15000',                u'income',\n",
    "                  u'noncitizen',           u'foreignborn',\n",
    "              u'wac_total_jobs',\n",
    "              u'wac_jobs_lt_29',        u'wac_jobs_30_54',\n",
    "              u'wac_jobs_gt_55',      u'wac_minc_lt_1250',\n",
    "          u'wac_minc_1251_3333',      u'wac_minc_gt_3333',\n",
    "              u'rac_total_jobs',        u'rac_jobs_lt_29',\n",
    "              u'rac_jobs_30_54',        u'rac_jobs_gt_55',\n",
    "            u'rac_minc_lt_1250',    u'rac_minc_1251_3333',\n",
    "            u'rac_minc_gt_3333'\n",
    "]]\n",
    "\n",
    "#Dropping poverty because nans while computing covariance matrix\n",
    "flat_route_d_std = flat_route_d\n",
    "\n",
    "# Standardize Value Range\n",
    "\n",
    "for c in [\n",
    "        u'average_commute_time', u'average_walk_distance',\n",
    "        u'number_of_commuters',u'pop',\n",
    "                       u'_18_to_24',                    u'above_65',\n",
    "                         u'age',             u'nonwhite',\n",
    "                  u'nonenglish',    u'income_below_10000',\n",
    "          u'income_below_15000',                u'income',\n",
    "                 u'noncitizen',\n",
    "                 u'foreignborn',        u'wac_total_jobs',\n",
    "              u'wac_jobs_lt_29',        u'wac_jobs_30_54',\n",
    "              u'wac_jobs_gt_55',      u'wac_minc_lt_1250',\n",
    "          u'wac_minc_1251_3333',      u'wac_minc_gt_3333',\n",
    "              u'rac_total_jobs',        u'rac_jobs_lt_29',\n",
    "              u'rac_jobs_30_54',        u'rac_jobs_gt_55',\n",
    "            u'rac_minc_lt_1250',    u'rac_minc_1251_3333',\n",
    "            u'rac_minc_gt_3333'\n",
    "]:\n",
    "    flat_route_d_std[c] = ((flat_route_d_std[c] - flat_route_d_std[c].mean())/flat_route_d_std[c].std())\n",
    "    \n",
    "\n"
   ]
  },
  {
   "cell_type": "markdown",
   "metadata": {},
   "source": [
    "#### Jamaica"
   ]
  },
  {
   "cell_type": "code",
   "execution_count": 14,
   "metadata": {
    "collapsed": false
   },
   "outputs": [],
   "source": [
    "#Origins\n",
    "\n",
    "jam_route_o = shp.ix[:,4:]\n",
    "labels = shp['DollarVanLine']\n",
    "jam_route_o = shp[routes['OriginJamica'] == 1]\n",
    "\n",
    "jam_route_o = jam_route_o[[\n",
    "        u'average_commute_time', u'average_walk_distance',\n",
    "        u'number_of_commuters',u'pop',\n",
    "                       u'_18_to_24',                    u'above_65',\n",
    "                         u'age',             u'nonwhite',\n",
    "                  u'nonenglish',    u'income_below_10000',\n",
    "          u'income_below_15000',                u'income',\n",
    "                  u'noncitizen',           u'foreignborn',\n",
    "              u'wac_total_jobs',\n",
    "              u'wac_jobs_lt_29',        u'wac_jobs_30_54',\n",
    "              u'wac_jobs_gt_55',      u'wac_minc_lt_1250',\n",
    "          u'wac_minc_1251_3333',      u'wac_minc_gt_3333',\n",
    "              u'rac_total_jobs',        u'rac_jobs_lt_29',\n",
    "              u'rac_jobs_30_54',        u'rac_jobs_gt_55',\n",
    "            u'rac_minc_lt_1250',    u'rac_minc_1251_3333',\n",
    "            u'rac_minc_gt_3333'\n",
    "]]\n",
    "\n",
    "#Dropping poverty because nans while computing covariance matrix\n",
    "jam_route_o_std = jam_route_o\n",
    "\n",
    "# Standardize Value Range\n",
    "\n",
    "for c in [\n",
    "        u'average_commute_time', u'average_walk_distance',\n",
    "        u'number_of_commuters',u'pop',\n",
    "                       u'_18_to_24',                    u'above_65',\n",
    "                         u'age',             u'nonwhite',\n",
    "                  u'nonenglish',    u'income_below_10000',\n",
    "          u'income_below_15000',                u'income',\n",
    "                 u'noncitizen',\n",
    "                 u'foreignborn',        u'wac_total_jobs',\n",
    "              u'wac_jobs_lt_29',        u'wac_jobs_30_54',\n",
    "              u'wac_jobs_gt_55',      u'wac_minc_lt_1250',\n",
    "          u'wac_minc_1251_3333',      u'wac_minc_gt_3333',\n",
    "              u'rac_total_jobs',        u'rac_jobs_lt_29',\n",
    "              u'rac_jobs_30_54',        u'rac_jobs_gt_55',\n",
    "            u'rac_minc_lt_1250',    u'rac_minc_1251_3333',\n",
    "            u'rac_minc_gt_3333'\n",
    "]:\n",
    "    jam_route_o_std[c] = ((jam_route_o_std[c] - jam_route_o_std[c].mean())/jam_route_o_std[c].std())\n",
    "    \n",
    "\n",
    "\n",
    "\n"
   ]
  },
  {
   "cell_type": "code",
   "execution_count": 15,
   "metadata": {
    "collapsed": false
   },
   "outputs": [],
   "source": [
    "#Destination\n",
    "\n",
    "flat_route_d = shp.ix[:,4:]\n",
    "labels = shp['DollarVanLine']\n",
    "flat_route_d = shp[routes['Jamica'] == 1]\n",
    "\n",
    "flat_route_d = flat_route_d[[\n",
    "        u'average_commute_time', u'average_walk_distance',\n",
    "        u'number_of_commuters',u'pop',\n",
    "                       u'_18_to_24',                    u'above_65',\n",
    "                         u'age',             u'nonwhite',\n",
    "                  u'nonenglish',    u'income_below_10000',\n",
    "          u'income_below_15000',                u'income',\n",
    "                  u'noncitizen',           u'foreignborn',\n",
    "              u'wac_total_jobs',\n",
    "              u'wac_jobs_lt_29',        u'wac_jobs_30_54',\n",
    "              u'wac_jobs_gt_55',      u'wac_minc_lt_1250',\n",
    "          u'wac_minc_1251_3333',      u'wac_minc_gt_3333',\n",
    "              u'rac_total_jobs',        u'rac_jobs_lt_29',\n",
    "              u'rac_jobs_30_54',        u'rac_jobs_gt_55',\n",
    "            u'rac_minc_lt_1250',    u'rac_minc_1251_3333',\n",
    "            u'rac_minc_gt_3333'\n",
    "]]\n",
    "\n",
    "#Dropping poverty because nans while computing covariance matrix\n",
    "flat_route_d_std = flat_route_d\n",
    "\n",
    "# Standardize Value Range\n",
    "\n",
    "for c in [\n",
    "        u'average_commute_time', u'average_walk_distance',\n",
    "        u'number_of_commuters',u'pop',\n",
    "                       u'_18_to_24',                    u'above_65',\n",
    "                         u'age',             u'nonwhite',\n",
    "                  u'nonenglish',    u'income_below_10000',\n",
    "          u'income_below_15000',                u'income',\n",
    "                 u'noncitizen',\n",
    "                 u'foreignborn',        u'wac_total_jobs',\n",
    "              u'wac_jobs_lt_29',        u'wac_jobs_30_54',\n",
    "              u'wac_jobs_gt_55',      u'wac_minc_lt_1250',\n",
    "          u'wac_minc_1251_3333',      u'wac_minc_gt_3333',\n",
    "              u'rac_total_jobs',        u'rac_jobs_lt_29',\n",
    "              u'rac_jobs_30_54',        u'rac_jobs_gt_55',\n",
    "            u'rac_minc_lt_1250',    u'rac_minc_1251_3333',\n",
    "            u'rac_minc_gt_3333'\n",
    "]:\n",
    "    flat_route_d_std[c] = ((flat_route_d_std[c] - flat_route_d_std[c].mean())/flat_route_d_std[c].std())\n",
    "    \n",
    "\n"
   ]
  },
  {
   "cell_type": "markdown",
   "metadata": {},
   "source": [
    "### PCA "
   ]
  },
  {
   "cell_type": "code",
   "execution_count": 16,
   "metadata": {
    "collapsed": false
   },
   "outputs": [],
   "source": [
    "def select_features(data, data_std):\n",
    "    mean_vec = np.mean(data_std, axis=0)\n",
    "    cov_mat = (data_std - mean_vec).T.dot((data_std - mean_vec)) / (data_std.shape[0]-1)\n",
    "    #print('Covariance matrix \\n%s' %cov_mat)\n",
    "\n",
    "    eig_vals, eig_vecs = np.linalg.eig(cov_mat)\n",
    "    cor_mat1 = np.corrcoef(data_std.T)\n",
    "\n",
    "    eig_vals, eig_vecs = np.linalg.eig(cor_mat1)\n",
    "\n",
    "    #print('Eigenvectors \\n%s' %eig_vecs)\n",
    "    #print('\\nEigenvalues \\n%s' %eig_vals)\n",
    "\n",
    "    cor_mat2 = np.corrcoef(data.T)\n",
    "\n",
    "    eig_vals, eig_vecs = np.linalg.eig(cor_mat2)\n",
    "    u,s,v = np.linalg.svd(data_std.T)\n",
    "\n",
    "    # Make a list of (eigenvalue, eigenvector) tuples\n",
    "    eig_pairs = [(np.abs(eig_vals[i]), eig_vecs[:,i]) for i in range(len(eig_vals))]\n",
    "\n",
    "    eig_pairs.sort()\n",
    "    eig_pairs.reverse()\n",
    "    \n",
    "    #print('Eigenvalues in descending order:')\n",
    "    for index, i in enumerate(eig_pairs):\n",
    "        if index<=2:\n",
    "            print \"Eigen Value : \" + str(i[0])# max(i[1]), np.mean(i[1]), np.std(i[1]), min(i[1]) )\n",
    "            print data_std.columns[np.abs(i[1]) > 0.25]\n",
    "    "
   ]
  },
  {
   "cell_type": "markdown",
   "metadata": {},
   "source": [
    "### Feature Selection"
   ]
  },
  {
   "cell_type": "markdown",
   "metadata": {},
   "source": [
    "#### Chinatown"
   ]
  },
  {
   "cell_type": "code",
   "execution_count": 17,
   "metadata": {
    "collapsed": false
   },
   "outputs": [
    {
     "name": "stdout",
     "output_type": "stream",
     "text": [
      "Eigen Value : 9.47147971294\n",
      "Index([u'average_commute_time',  u'number_of_commuters',\n",
      "             u'rac_total_jobs',       u'rac_jobs_lt_29',\n",
      "             u'rac_jobs_30_54',       u'rac_jobs_gt_55',\n",
      "           u'rac_minc_gt_3333'],\n",
      "      dtype='object')\n",
      "Eigen Value : 6.86559700063\n",
      "Index([u'wac_total_jobs', u'wac_jobs_lt_29', u'wac_jobs_30_54',\n",
      "       u'wac_jobs_gt_55', u'wac_minc_lt_1250', u'wac_minc_1251_3333',\n",
      "       u'wac_minc_gt_3333'],\n",
      "      dtype='object')\n",
      "Eigen Value : 3.46025441228\n",
      "Index([u'_18_to_24', u'nonwhite', u'income_below_10000', u'income_below_15000',\n",
      "       u'income', u'rac_minc_1251_3333'],\n",
      "      dtype='object')\n"
     ]
    }
   ],
   "source": [
    "select_features(china_data_o, china_data_o_std)"
   ]
  },
  {
   "cell_type": "code",
   "execution_count": 18,
   "metadata": {
    "collapsed": false
   },
   "outputs": [
    {
     "name": "stdout",
     "output_type": "stream",
     "text": [
      "Eigen Value : 9.47147971294\n",
      "Index([u'average_commute_time',  u'number_of_commuters',\n",
      "             u'rac_total_jobs',       u'rac_jobs_lt_29',\n",
      "             u'rac_jobs_30_54',       u'rac_jobs_gt_55',\n",
      "           u'rac_minc_gt_3333'],\n",
      "      dtype='object')\n",
      "Eigen Value : 6.86559700063\n",
      "Index([u'wac_total_jobs', u'wac_jobs_lt_29', u'wac_jobs_30_54',\n",
      "       u'wac_jobs_gt_55', u'wac_minc_lt_1250', u'wac_minc_1251_3333',\n",
      "       u'wac_minc_gt_3333'],\n",
      "      dtype='object')\n",
      "Eigen Value : 3.46025441228\n",
      "Index([u'_18_to_24', u'nonwhite', u'income_below_10000', u'income_below_15000',\n",
      "       u'income', u'rac_minc_1251_3333'],\n",
      "      dtype='object')\n"
     ]
    }
   ],
   "source": [
    "select_features(china_data_d, china_data_d_std)"
   ]
  },
  {
   "cell_type": "markdown",
   "metadata": {},
   "source": [
    "#### Flatbush"
   ]
  },
  {
   "cell_type": "code",
   "execution_count": 19,
   "metadata": {
    "collapsed": false
   },
   "outputs": [
    {
     "name": "stdout",
     "output_type": "stream",
     "text": [
      "Eigen Value : 9.27159583158\n",
      "Index([u'number_of_commuters',      u'rac_total_jobs',      u'rac_jobs_lt_29',\n",
      "            u'rac_jobs_30_54',      u'rac_jobs_gt_55',    u'rac_minc_gt_3333'],\n",
      "      dtype='object')\n",
      "Eigen Value : 5.20147115068\n",
      "Index([u'income_below_10000', u'income_below_15000', u'income',\n",
      "       u'rac_minc_lt_1250', u'rac_minc_1251_3333'],\n",
      "      dtype='object')\n",
      "Eigen Value : 4.57273671815\n",
      "Index([u'age', u'income_below_15000', u'wac_total_jobs', u'wac_jobs_gt_55',\n",
      "       u'wac_minc_lt_1250', u'wac_minc_1251_3333'],\n",
      "      dtype='object')\n"
     ]
    }
   ],
   "source": [
    "select_features(flat_route_o, flat_route_o_std)"
   ]
  },
  {
   "cell_type": "code",
   "execution_count": 20,
   "metadata": {
    "collapsed": false
   },
   "outputs": [
    {
     "ename": "ValueError",
     "evalue": "The truth value of an array with more than one element is ambiguous. Use a.any() or a.all()",
     "output_type": "error",
     "traceback": [
      "\u001b[0;31m---------------------------------------------------------------------------\u001b[0m",
      "\u001b[0;31mValueError\u001b[0m                                Traceback (most recent call last)",
      "\u001b[0;32m<ipython-input-20-b5ec69762ee6>\u001b[0m in \u001b[0;36m<module>\u001b[0;34m()\u001b[0m\n\u001b[0;32m----> 1\u001b[0;31m \u001b[0mselect_features\u001b[0m\u001b[0;34m(\u001b[0m\u001b[0mflat_route_d\u001b[0m\u001b[0;34m,\u001b[0m \u001b[0mflat_route_d_std\u001b[0m\u001b[0;34m)\u001b[0m\u001b[0;34m\u001b[0m\u001b[0m\n\u001b[0m",
      "\u001b[0;32m<ipython-input-16-1aefc528a004>\u001b[0m in \u001b[0;36mselect_features\u001b[0;34m(data, data_std)\u001b[0m\n\u001b[1;32m     20\u001b[0m     \u001b[0meig_pairs\u001b[0m \u001b[0;34m=\u001b[0m \u001b[0;34m[\u001b[0m\u001b[0;34m(\u001b[0m\u001b[0mnp\u001b[0m\u001b[0;34m.\u001b[0m\u001b[0mabs\u001b[0m\u001b[0;34m(\u001b[0m\u001b[0meig_vals\u001b[0m\u001b[0;34m[\u001b[0m\u001b[0mi\u001b[0m\u001b[0;34m]\u001b[0m\u001b[0;34m)\u001b[0m\u001b[0;34m,\u001b[0m \u001b[0meig_vecs\u001b[0m\u001b[0;34m[\u001b[0m\u001b[0;34m:\u001b[0m\u001b[0;34m,\u001b[0m\u001b[0mi\u001b[0m\u001b[0;34m]\u001b[0m\u001b[0;34m)\u001b[0m \u001b[0;32mfor\u001b[0m \u001b[0mi\u001b[0m \u001b[0;32min\u001b[0m \u001b[0mrange\u001b[0m\u001b[0;34m(\u001b[0m\u001b[0mlen\u001b[0m\u001b[0;34m(\u001b[0m\u001b[0meig_vals\u001b[0m\u001b[0;34m)\u001b[0m\u001b[0;34m)\u001b[0m\u001b[0;34m]\u001b[0m\u001b[0;34m\u001b[0m\u001b[0m\n\u001b[1;32m     21\u001b[0m \u001b[0;34m\u001b[0m\u001b[0m\n\u001b[0;32m---> 22\u001b[0;31m     \u001b[0meig_pairs\u001b[0m\u001b[0;34m.\u001b[0m\u001b[0msort\u001b[0m\u001b[0;34m(\u001b[0m\u001b[0;34m)\u001b[0m\u001b[0;34m\u001b[0m\u001b[0m\n\u001b[0m\u001b[1;32m     23\u001b[0m     \u001b[0meig_pairs\u001b[0m\u001b[0;34m.\u001b[0m\u001b[0mreverse\u001b[0m\u001b[0;34m(\u001b[0m\u001b[0;34m)\u001b[0m\u001b[0;34m\u001b[0m\u001b[0m\n\u001b[1;32m     24\u001b[0m \u001b[0;34m\u001b[0m\u001b[0m\n",
      "\u001b[0;31mValueError\u001b[0m: The truth value of an array with more than one element is ambiguous. Use a.any() or a.all()"
     ]
    }
   ],
   "source": [
    "select_features(flat_route_d, flat_route_d_std)"
   ]
  },
  {
   "cell_type": "markdown",
   "metadata": {},
   "source": [
    "#### Jamaica"
   ]
  },
  {
   "cell_type": "code",
   "execution_count": 21,
   "metadata": {
    "collapsed": false
   },
   "outputs": [
    {
     "name": "stdout",
     "output_type": "stream",
     "text": [
      "Eigen Value : 8.7083244658\n",
      "Index([u'pop', u'rac_total_jobs', u'rac_jobs_lt_29', u'rac_jobs_30_54',\n",
      "       u'rac_jobs_gt_55', u'rac_minc_lt_1250', u'rac_minc_1251_3333'],\n",
      "      dtype='object')\n",
      "Eigen Value : 6.63481701088\n",
      "Index([u'wac_total_jobs', u'wac_jobs_lt_29', u'wac_jobs_30_54',\n",
      "       u'wac_jobs_gt_55', u'wac_minc_lt_1250', u'wac_minc_1251_3333',\n",
      "       u'wac_minc_gt_3333'],\n",
      "      dtype='object')\n",
      "Eigen Value : 3.74096997345\n",
      "Index([u'_18_to_24', u'age', u'nonwhite', u'income_below_10000',\n",
      "       u'income_below_15000', u'income'],\n",
      "      dtype='object')\n"
     ]
    }
   ],
   "source": [
    "select_features(jam_route_o, jam_route_o_std)"
   ]
  },
  {
   "cell_type": "code",
   "execution_count": 22,
   "metadata": {
    "collapsed": false
   },
   "outputs": [
    {
     "ename": "NameError",
     "evalue": "name 'jam_route_d' is not defined",
     "output_type": "error",
     "traceback": [
      "\u001b[0;31m---------------------------------------------------------------------------\u001b[0m",
      "\u001b[0;31mNameError\u001b[0m                                 Traceback (most recent call last)",
      "\u001b[0;32m<ipython-input-22-15ad4daab7bf>\u001b[0m in \u001b[0;36m<module>\u001b[0;34m()\u001b[0m\n\u001b[0;32m----> 1\u001b[0;31m \u001b[0mselect_features\u001b[0m\u001b[0;34m(\u001b[0m\u001b[0mjam_route_d\u001b[0m\u001b[0;34m,\u001b[0m \u001b[0mjam_route_d_std\u001b[0m\u001b[0;34m)\u001b[0m\u001b[0;34m\u001b[0m\u001b[0m\n\u001b[0m",
      "\u001b[0;31mNameError\u001b[0m: name 'jam_route_d' is not defined"
     ]
    }
   ],
   "source": [
    "select_features(jam_route_d, jam_route_d_std)"
   ]
  },
  {
   "cell_type": "markdown",
   "metadata": {},
   "source": [
    "# Not Using this :\n"
   ]
  },
  {
   "cell_type": "code",
   "execution_count": null,
   "metadata": {
    "collapsed": true
   },
   "outputs": [],
   "source": [
    "# Not Using this\n",
    "\n",
    "matrix_w = np.hstack((eig_pairs[0][1].reshape(28,1),\n",
    "                      eig_pairs[1][1].reshape(28,1)))\n",
    "\n",
    "#print('Matrix W:\\n', matrix_w)\n",
    "Y = data_std.dot(matrix_w)\n",
    "from sklearn.decomposition import PCA as sklearnPCA\n",
    "sklearn_pca = sklearnPCA(n_components=2)\n",
    "Y_sklearn = sklearn_pca.fit_transform(data_std)\n",
    "from sklearn.decomposition import SparsePCA as sparsePCA\n",
    "sparse_pca = sparsePCA(n_components=4)\n",
    "sparse_pca.fit(data_std)\n",
    "Y_sparse = sparse_pca.transform(data_std)"
   ]
  }
 ],
 "metadata": {
  "kernelspec": {
   "display_name": "Python 2",
   "language": "python",
   "name": "python2"
  },
  "language_info": {
   "codemirror_mode": {
    "name": "ipython",
    "version": 2
   },
   "file_extension": ".py",
   "mimetype": "text/x-python",
   "name": "python",
   "nbconvert_exporter": "python",
   "pygments_lexer": "ipython2",
   "version": "2.7.10"
  }
 },
 "nbformat": 4,
 "nbformat_minor": 0
}
