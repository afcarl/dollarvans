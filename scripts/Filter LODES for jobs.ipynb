{
 "cells": [
  {
   "cell_type": "code",
   "execution_count": 9,
   "metadata": {
    "collapsed": false
   },
   "outputs": [
    {
     "name": "stdout",
     "output_type": "stream",
     "text": [
      "Populating the interactive namespace from numpy and matplotlib\n"
     ]
    }
   ],
   "source": [
    "#Imports\n",
    "import pandas as pd\n",
    "import numpy as np\n",
    "import pylab as pl\n",
    "import geopandas as gp\n",
    "import json\n",
    "\n",
    "%pylab inline"
   ]
  },
  {
   "cell_type": "code",
   "execution_count": 70,
   "metadata": {
    "collapsed": false
   },
   "outputs": [],
   "source": [
    "#Reading Datasets\n",
    "wac_lodes = pd.read_csv('../data/csv/ny_wac_S000_JT00_2013.csv', dtype={'w_geocode' : str, 'h_geocode' : str})\n",
    "rac_lodes = pd.read_csv('../data/csv/ny_rac_S000_JT00_2013.csv', dtype={'w_geocode' : str, 'h_geocode' : str})\n",
    "merged = gp.read_file('../data/merged.json')\n",
    "\n"
   ]
  },
  {
   "cell_type": "code",
   "execution_count": 71,
   "metadata": {
    "collapsed": false
   },
   "outputs": [],
   "source": [
    "#Extract required features\n",
    "\n",
    "merged['tract'] = merged['tract'].astype(str)\n",
    "\n",
    "wac_lodes = wac_lodes.ix[:,0:8]\n",
    "rac_lodes = rac_lodes.ix[:,0:8]\n",
    "\n",
    "wac_lodes['w_county_tract'] = wac_lodes['w_geocode'].str[2:11]\n",
    "rac_lodes['h_county_tract'] = rac_lodes['h_geocode'].str[2:11]\n",
    "\n",
    "rac_lodes.columns = ['h_geocode', 'rac_C000', 'rac_CA01', 'rac_CA02', 'rac_CA03', 'rac_CE01', 'rac_CE02','rac_CE03', 'h_county_tract']\n",
    "wac_lodes.columns = ['w_geocode', 'wac_C000', 'wac_CA01', 'wac_CA02', 'wac_CA03', 'wac_CE01', 'wac_CE02','wac_CE03', 'w_county_tract']"
   ]
  },
  {
   "cell_type": "code",
   "execution_count": 72,
   "metadata": {
    "collapsed": false
   },
   "outputs": [],
   "source": [
    "wac_lodes_tract = wac_lodes.groupby('w_county_tract')\n",
    "rac_lodes_tract = rac_lodes.groupby('h_county_tract')\n",
    "\n",
    "wac_tract_jobs = wac_lodes_tract.sum().reset_index()\n",
    "rac_tract_jobs = rac_lodes_tract.sum().reset_index()\n",
    "\n",
    "merged = pd.merge(merged, wac_tract_jobs, how='inner', left_on='tract', right_on='w_county_tract')\n",
    "merged = pd.merge(merged, rac_tract_jobs, how='inner', left_on='tract', right_on='h_county_tract')"
   ]
  },
  {
   "cell_type": "code",
   "execution_count": 80,
   "metadata": {
    "collapsed": false
   },
   "outputs": [],
   "source": [
    "\n",
    "merged.columns = [u'Both',\n",
    " u'Destination?',\n",
    " u'DollarVanLine',\n",
    " u'Origin?',\n",
    " u'average_commute_time',\n",
    " u'average_walk_distance',\n",
    " 'geometry',\n",
    " u'number_of_commuters',\n",
    " u'tract',\n",
    " 'w_county_tract',\n",
    " 'wac_total_jobs',\n",
    " 'wac_jobs_lt_29',\n",
    " 'wac_jobs_30_54',\n",
    " 'wac_jobs_gt_55',\n",
    " 'wac_minc_lt_1250',\n",
    " 'wac_minc_1251_3333',\n",
    " 'wac_minc_gt_3333',\n",
    " 'h_county_tract',\n",
    " 'rac_total_jobs',\n",
    " 'rac_jobs_lt_29',\n",
    " 'rac_jobs_30_54',\n",
    " 'rac_jobs_gt_55',\n",
    " 'rac_minc_lt_1250',\n",
    " 'rac_minc_1251_3333',\n",
    " 'rac_minc_gt_3333'\n",
    " ]"
   ]
  },
  {
   "cell_type": "code",
   "execution_count": null,
   "metadata": {
    "collapsed": true
   },
   "outputs": [],
   "source": []
  }
 ],
 "metadata": {
  "kernelspec": {
   "display_name": "Python 2",
   "language": "python",
   "name": "python2"
  },
  "language_info": {
   "codemirror_mode": {
    "name": "ipython",
    "version": 2
   },
   "file_extension": ".py",
   "mimetype": "text/x-python",
   "name": "python",
   "nbconvert_exporter": "python",
   "pygments_lexer": "ipython2",
   "version": "2.7.10"
  }
 },
 "nbformat": 4,
 "nbformat_minor": 0
}
